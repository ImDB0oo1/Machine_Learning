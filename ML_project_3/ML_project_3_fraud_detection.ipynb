{
  "nbformat": 4,
  "nbformat_minor": 0,
  "metadata": {
    "colab": {
      "provenance": []
    },
    "kernelspec": {
      "name": "python3",
      "display_name": "Python 3"
    },
    "language_info": {
      "name": "python"
    },
    "gpuClass": "standard"
  },
  "cells": [
    {
      "cell_type": "code",
      "execution_count": null,
      "metadata": {
        "id": "cM62AUSadZK2"
      },
      "outputs": [],
      "source": [
        "import numpy as np\n",
        "import pandas as pd\n",
        "import random\n",
        "import tensorflow as tf\n",
        "import matplotlib.pyplot as plt\n",
        "from sklearn import preprocessing\n",
        "\n",
        "from sklearn.metrics import accuracy_score\n",
        "from sklearn.tree import DecisionTreeClassifier\n",
        "\n",
        "\n",
        "from tensorflow.keras.models import Sequential\n",
        "from tensorflow.keras.layers import Flatten, Conv2D, Dense, MaxPooling2D\n",
        "from tensorflow.keras.optimizers import SGD\n",
        "from keras.layers import Dropout\n",
        "from keras.optimizers import Adam\n",
        "from tensorflow.keras.utils import to_categorical\n",
        "from tensorflow.keras.datasets import mnist\n",
        "\n",
        "from sklearn.preprocessing import OrdinalEncoder\n",
        "from sklearn.preprocessing import MinMaxScaler\n",
        "from sklearn.model_selection import train_test_split\n",
        "from imblearn.over_sampling import SMOTE\n",
        "from sklearn.metrics import classification_report\n",
        "from sklearn.metrics import confusion_matrix,plot_confusion_matrix,ConfusionMatrixDisplay,multilabel_confusion_matrix"
      ]
    },
    {
      "cell_type": "code",
      "source": [
        "fraud_df = pd.read_csv('/content/application_data.csv')"
      ],
      "metadata": {
        "id": "ire0Yr830QqC"
      },
      "execution_count": null,
      "outputs": []
    },
    {
      "cell_type": "code",
      "source": [
        "fraud_df.info()"
      ],
      "metadata": {
        "colab": {
          "base_uri": "https://localhost:8080/"
        },
        "id": "cmJjiCAS0Ymv",
        "outputId": "e43d4b4f-495e-4de8-9c6a-aadbc0e357bc"
      },
      "execution_count": null,
      "outputs": [
        {
          "output_type": "stream",
          "name": "stdout",
          "text": [
            "<class 'pandas.core.frame.DataFrame'>\n",
            "RangeIndex: 307511 entries, 0 to 307510\n",
            "Columns: 122 entries, SK_ID_CURR to AMT_REQ_CREDIT_BUREAU_YEAR\n",
            "dtypes: float64(65), int64(41), object(16)\n",
            "memory usage: 286.2+ MB\n"
          ]
        }
      ]
    },
    {
      "cell_type": "code",
      "source": [
        "fraud_df.isnull().sum()"
      ],
      "metadata": {
        "colab": {
          "base_uri": "https://localhost:8080/"
        },
        "id": "xLS8CmoE0fJI",
        "outputId": "bad7216c-2274-4ea6-9433-bc7d8aa4239e"
      },
      "execution_count": null,
      "outputs": [
        {
          "output_type": "execute_result",
          "data": {
            "text/plain": [
              "SK_ID_CURR                        0\n",
              "TARGET                            0\n",
              "NAME_CONTRACT_TYPE                0\n",
              "CODE_GENDER                       0\n",
              "FLAG_OWN_CAR                      0\n",
              "                              ...  \n",
              "AMT_REQ_CREDIT_BUREAU_DAY     41519\n",
              "AMT_REQ_CREDIT_BUREAU_WEEK    41519\n",
              "AMT_REQ_CREDIT_BUREAU_MON     41519\n",
              "AMT_REQ_CREDIT_BUREAU_QRT     41519\n",
              "AMT_REQ_CREDIT_BUREAU_YEAR    41519\n",
              "Length: 122, dtype: int64"
            ]
          },
          "metadata": {},
          "execution_count": 86
        }
      ]
    },
    {
      "cell_type": "code",
      "source": [
        "fraud_df.dropna(axis = 1, inplace = True)"
      ],
      "metadata": {
        "id": "9HsZvkrj1_lg"
      },
      "execution_count": null,
      "outputs": []
    },
    {
      "cell_type": "code",
      "source": [
        "fraud_df.isnull().sum()"
      ],
      "metadata": {
        "colab": {
          "base_uri": "https://localhost:8080/"
        },
        "id": "BPDYwwll2JrJ",
        "outputId": "ccd6b72e-faa8-47e3-ad07-9fd9cea0cacc"
      },
      "execution_count": null,
      "outputs": [
        {
          "output_type": "execute_result",
          "data": {
            "text/plain": [
              "SK_ID_CURR                     0\n",
              "TARGET                         0\n",
              "NAME_CONTRACT_TYPE             0\n",
              "CODE_GENDER                    0\n",
              "FLAG_OWN_CAR                   0\n",
              "FLAG_OWN_REALTY                0\n",
              "CNT_CHILDREN                   0\n",
              "AMT_INCOME_TOTAL               0\n",
              "AMT_CREDIT                     0\n",
              "NAME_INCOME_TYPE               0\n",
              "NAME_EDUCATION_TYPE            0\n",
              "NAME_FAMILY_STATUS             0\n",
              "NAME_HOUSING_TYPE              0\n",
              "REGION_POPULATION_RELATIVE     0\n",
              "DAYS_BIRTH                     0\n",
              "DAYS_EMPLOYED                  0\n",
              "DAYS_REGISTRATION              0\n",
              "DAYS_ID_PUBLISH                0\n",
              "FLAG_MOBIL                     0\n",
              "FLAG_EMP_PHONE                 0\n",
              "FLAG_WORK_PHONE                0\n",
              "FLAG_CONT_MOBILE               0\n",
              "FLAG_PHONE                     0\n",
              "FLAG_EMAIL                     0\n",
              "REGION_RATING_CLIENT           0\n",
              "REGION_RATING_CLIENT_W_CITY    0\n",
              "WEEKDAY_APPR_PROCESS_START     0\n",
              "HOUR_APPR_PROCESS_START        0\n",
              "REG_REGION_NOT_LIVE_REGION     0\n",
              "REG_REGION_NOT_WORK_REGION     0\n",
              "LIVE_REGION_NOT_WORK_REGION    0\n",
              "REG_CITY_NOT_LIVE_CITY         0\n",
              "REG_CITY_NOT_WORK_CITY         0\n",
              "LIVE_CITY_NOT_WORK_CITY        0\n",
              "ORGANIZATION_TYPE              0\n",
              "FLAG_DOCUMENT_2                0\n",
              "FLAG_DOCUMENT_3                0\n",
              "FLAG_DOCUMENT_4                0\n",
              "FLAG_DOCUMENT_5                0\n",
              "FLAG_DOCUMENT_6                0\n",
              "FLAG_DOCUMENT_7                0\n",
              "FLAG_DOCUMENT_8                0\n",
              "FLAG_DOCUMENT_9                0\n",
              "FLAG_DOCUMENT_10               0\n",
              "FLAG_DOCUMENT_11               0\n",
              "FLAG_DOCUMENT_12               0\n",
              "FLAG_DOCUMENT_13               0\n",
              "FLAG_DOCUMENT_14               0\n",
              "FLAG_DOCUMENT_15               0\n",
              "FLAG_DOCUMENT_16               0\n",
              "FLAG_DOCUMENT_17               0\n",
              "FLAG_DOCUMENT_18               0\n",
              "FLAG_DOCUMENT_19               0\n",
              "FLAG_DOCUMENT_20               0\n",
              "FLAG_DOCUMENT_21               0\n",
              "dtype: int64"
            ]
          },
          "metadata": {},
          "execution_count": 88
        }
      ]
    },
    {
      "cell_type": "code",
      "source": [
        "fraud_df.info()"
      ],
      "metadata": {
        "colab": {
          "base_uri": "https://localhost:8080/"
        },
        "id": "bSLCK4Ou1ZEM",
        "outputId": "348365d2-1468-4e7f-8f7e-6904caf695d9"
      },
      "execution_count": null,
      "outputs": [
        {
          "output_type": "stream",
          "name": "stdout",
          "text": [
            "<class 'pandas.core.frame.DataFrame'>\n",
            "RangeIndex: 307511 entries, 0 to 307510\n",
            "Data columns (total 55 columns):\n",
            " #   Column                       Non-Null Count   Dtype  \n",
            "---  ------                       --------------   -----  \n",
            " 0   SK_ID_CURR                   307511 non-null  int64  \n",
            " 1   TARGET                       307511 non-null  int64  \n",
            " 2   NAME_CONTRACT_TYPE           307511 non-null  object \n",
            " 3   CODE_GENDER                  307511 non-null  object \n",
            " 4   FLAG_OWN_CAR                 307511 non-null  object \n",
            " 5   FLAG_OWN_REALTY              307511 non-null  object \n",
            " 6   CNT_CHILDREN                 307511 non-null  int64  \n",
            " 7   AMT_INCOME_TOTAL             307511 non-null  float64\n",
            " 8   AMT_CREDIT                   307511 non-null  float64\n",
            " 9   NAME_INCOME_TYPE             307511 non-null  object \n",
            " 10  NAME_EDUCATION_TYPE          307511 non-null  object \n",
            " 11  NAME_FAMILY_STATUS           307511 non-null  object \n",
            " 12  NAME_HOUSING_TYPE            307511 non-null  object \n",
            " 13  REGION_POPULATION_RELATIVE   307511 non-null  float64\n",
            " 14  DAYS_BIRTH                   307511 non-null  int64  \n",
            " 15  DAYS_EMPLOYED                307511 non-null  int64  \n",
            " 16  DAYS_REGISTRATION            307511 non-null  float64\n",
            " 17  DAYS_ID_PUBLISH              307511 non-null  int64  \n",
            " 18  FLAG_MOBIL                   307511 non-null  int64  \n",
            " 19  FLAG_EMP_PHONE               307511 non-null  int64  \n",
            " 20  FLAG_WORK_PHONE              307511 non-null  int64  \n",
            " 21  FLAG_CONT_MOBILE             307511 non-null  int64  \n",
            " 22  FLAG_PHONE                   307511 non-null  int64  \n",
            " 23  FLAG_EMAIL                   307511 non-null  int64  \n",
            " 24  REGION_RATING_CLIENT         307511 non-null  int64  \n",
            " 25  REGION_RATING_CLIENT_W_CITY  307511 non-null  int64  \n",
            " 26  WEEKDAY_APPR_PROCESS_START   307511 non-null  object \n",
            " 27  HOUR_APPR_PROCESS_START      307511 non-null  int64  \n",
            " 28  REG_REGION_NOT_LIVE_REGION   307511 non-null  int64  \n",
            " 29  REG_REGION_NOT_WORK_REGION   307511 non-null  int64  \n",
            " 30  LIVE_REGION_NOT_WORK_REGION  307511 non-null  int64  \n",
            " 31  REG_CITY_NOT_LIVE_CITY       307511 non-null  int64  \n",
            " 32  REG_CITY_NOT_WORK_CITY       307511 non-null  int64  \n",
            " 33  LIVE_CITY_NOT_WORK_CITY      307511 non-null  int64  \n",
            " 34  ORGANIZATION_TYPE            307511 non-null  object \n",
            " 35  FLAG_DOCUMENT_2              307511 non-null  int64  \n",
            " 36  FLAG_DOCUMENT_3              307511 non-null  int64  \n",
            " 37  FLAG_DOCUMENT_4              307511 non-null  int64  \n",
            " 38  FLAG_DOCUMENT_5              307511 non-null  int64  \n",
            " 39  FLAG_DOCUMENT_6              307511 non-null  int64  \n",
            " 40  FLAG_DOCUMENT_7              307511 non-null  int64  \n",
            " 41  FLAG_DOCUMENT_8              307511 non-null  int64  \n",
            " 42  FLAG_DOCUMENT_9              307511 non-null  int64  \n",
            " 43  FLAG_DOCUMENT_10             307511 non-null  int64  \n",
            " 44  FLAG_DOCUMENT_11             307511 non-null  int64  \n",
            " 45  FLAG_DOCUMENT_12             307511 non-null  int64  \n",
            " 46  FLAG_DOCUMENT_13             307511 non-null  int64  \n",
            " 47  FLAG_DOCUMENT_14             307511 non-null  int64  \n",
            " 48  FLAG_DOCUMENT_15             307511 non-null  int64  \n",
            " 49  FLAG_DOCUMENT_16             307511 non-null  int64  \n",
            " 50  FLAG_DOCUMENT_17             307511 non-null  int64  \n",
            " 51  FLAG_DOCUMENT_18             307511 non-null  int64  \n",
            " 52  FLAG_DOCUMENT_19             307511 non-null  int64  \n",
            " 53  FLAG_DOCUMENT_20             307511 non-null  int64  \n",
            " 54  FLAG_DOCUMENT_21             307511 non-null  int64  \n",
            "dtypes: float64(4), int64(41), object(10)\n",
            "memory usage: 129.0+ MB\n"
          ]
        }
      ]
    },
    {
      "cell_type": "code",
      "source": [
        "y_fraud = fraud_df['TARGET']\n",
        "X_fraud = fraud_df.drop('TARGET', axis = 1)"
      ],
      "metadata": {
        "id": "XWRqdAY435U2"
      },
      "execution_count": null,
      "outputs": []
    },
    {
      "cell_type": "code",
      "source": [
        "X_fraud.columns"
      ],
      "metadata": {
        "colab": {
          "base_uri": "https://localhost:8080/"
        },
        "id": "h7eMuGoL4l0-",
        "outputId": "a7d5882b-7053-4803-cf11-7f50e4fa1906"
      },
      "execution_count": null,
      "outputs": [
        {
          "output_type": "execute_result",
          "data": {
            "text/plain": [
              "Index(['SK_ID_CURR', 'NAME_CONTRACT_TYPE', 'CODE_GENDER', 'FLAG_OWN_CAR',\n",
              "       'FLAG_OWN_REALTY', 'CNT_CHILDREN', 'AMT_INCOME_TOTAL', 'AMT_CREDIT',\n",
              "       'NAME_INCOME_TYPE', 'NAME_EDUCATION_TYPE', 'NAME_FAMILY_STATUS',\n",
              "       'NAME_HOUSING_TYPE', 'REGION_POPULATION_RELATIVE', 'DAYS_BIRTH',\n",
              "       'DAYS_EMPLOYED', 'DAYS_REGISTRATION', 'DAYS_ID_PUBLISH', 'FLAG_MOBIL',\n",
              "       'FLAG_EMP_PHONE', 'FLAG_WORK_PHONE', 'FLAG_CONT_MOBILE', 'FLAG_PHONE',\n",
              "       'FLAG_EMAIL', 'REGION_RATING_CLIENT', 'REGION_RATING_CLIENT_W_CITY',\n",
              "       'WEEKDAY_APPR_PROCESS_START', 'HOUR_APPR_PROCESS_START',\n",
              "       'REG_REGION_NOT_LIVE_REGION', 'REG_REGION_NOT_WORK_REGION',\n",
              "       'LIVE_REGION_NOT_WORK_REGION', 'REG_CITY_NOT_LIVE_CITY',\n",
              "       'REG_CITY_NOT_WORK_CITY', 'LIVE_CITY_NOT_WORK_CITY',\n",
              "       'ORGANIZATION_TYPE', 'FLAG_DOCUMENT_2', 'FLAG_DOCUMENT_3',\n",
              "       'FLAG_DOCUMENT_4', 'FLAG_DOCUMENT_5', 'FLAG_DOCUMENT_6',\n",
              "       'FLAG_DOCUMENT_7', 'FLAG_DOCUMENT_8', 'FLAG_DOCUMENT_9',\n",
              "       'FLAG_DOCUMENT_10', 'FLAG_DOCUMENT_11', 'FLAG_DOCUMENT_12',\n",
              "       'FLAG_DOCUMENT_13', 'FLAG_DOCUMENT_14', 'FLAG_DOCUMENT_15',\n",
              "       'FLAG_DOCUMENT_16', 'FLAG_DOCUMENT_17', 'FLAG_DOCUMENT_18',\n",
              "       'FLAG_DOCUMENT_19', 'FLAG_DOCUMENT_20', 'FLAG_DOCUMENT_21'],\n",
              "      dtype='object')"
            ]
          },
          "metadata": {},
          "execution_count": 91
        }
      ]
    },
    {
      "cell_type": "code",
      "source": [
        "X_train_fraud, X_test_fraud, y_train_fraud, y_test_fraud = train_test_split(X_fraud, y_fraud, test_size = 0.3, random_state=1)\n"
      ],
      "metadata": {
        "id": "tLRDaGkt3KCE"
      },
      "execution_count": null,
      "outputs": []
    },
    {
      "cell_type": "code",
      "source": [
        "X_train_fraud, X_val_fraud, y_train_fraud, y_val_fraud = train_test_split(X_train_fraud, y_train_fraud, test_size = 0.1, random_state=1)"
      ],
      "metadata": {
        "id": "Zez3N9QS5W8s"
      },
      "execution_count": null,
      "outputs": []
    },
    {
      "cell_type": "code",
      "source": [
        "X_train_fraud.head()"
      ],
      "metadata": {
        "colab": {
          "base_uri": "https://localhost:8080/",
          "height": 369
        },
        "id": "PhI0qoJAcjR-",
        "outputId": "0a57738c-25f3-4175-d1ae-374dccc32cca"
      },
      "execution_count": null,
      "outputs": [
        {
          "output_type": "execute_result",
          "data": {
            "text/plain": [
              "        SK_ID_CURR NAME_CONTRACT_TYPE CODE_GENDER FLAG_OWN_CAR  \\\n",
              "120422      239630         Cash loans           F            Y   \n",
              "275612      419391         Cash loans           F            N   \n",
              "186973      316749         Cash loans           M            N   \n",
              "112525      230533         Cash loans           F            N   \n",
              "162524      288413         Cash loans           M            Y   \n",
              "\n",
              "       FLAG_OWN_REALTY  CNT_CHILDREN  AMT_INCOME_TOTAL  AMT_CREDIT  \\\n",
              "120422               Y             1          112500.0    270000.0   \n",
              "275612               N             0          135000.0    412942.5   \n",
              "186973               Y             0          225000.0    269550.0   \n",
              "112525               N             1           90000.0    315000.0   \n",
              "162524               N             0          360000.0   2517300.0   \n",
              "\n",
              "            NAME_INCOME_TYPE            NAME_EDUCATION_TYPE  ...  \\\n",
              "120422               Working  Secondary / secondary special  ...   \n",
              "275612               Working  Secondary / secondary special  ...   \n",
              "186973               Working               Higher education  ...   \n",
              "112525             Pensioner  Secondary / secondary special  ...   \n",
              "162524  Commercial associate               Higher education  ...   \n",
              "\n",
              "       FLAG_DOCUMENT_12 FLAG_DOCUMENT_13  FLAG_DOCUMENT_14  FLAG_DOCUMENT_15  \\\n",
              "120422                0                0                 0                 0   \n",
              "275612                0                0                 0                 0   \n",
              "186973                0                0                 0                 0   \n",
              "112525                0                0                 0                 0   \n",
              "162524                0                0                 0                 0   \n",
              "\n",
              "        FLAG_DOCUMENT_16  FLAG_DOCUMENT_17  FLAG_DOCUMENT_18  \\\n",
              "120422                 0                 0                 0   \n",
              "275612                 0                 0                 0   \n",
              "186973                 0                 0                 0   \n",
              "112525                 0                 0                 0   \n",
              "162524                 0                 0                 0   \n",
              "\n",
              "        FLAG_DOCUMENT_19  FLAG_DOCUMENT_20  FLAG_DOCUMENT_21  \n",
              "120422                 0                 0                 0  \n",
              "275612                 0                 0                 0  \n",
              "186973                 0                 0                 0  \n",
              "112525                 0                 0                 0  \n",
              "162524                 0                 0                 0  \n",
              "\n",
              "[5 rows x 54 columns]"
            ],
            "text/html": [
              "\n",
              "  <div id=\"df-255cdfb0-b37c-497a-b50d-c0d275f4617d\">\n",
              "    <div class=\"colab-df-container\">\n",
              "      <div>\n",
              "<style scoped>\n",
              "    .dataframe tbody tr th:only-of-type {\n",
              "        vertical-align: middle;\n",
              "    }\n",
              "\n",
              "    .dataframe tbody tr th {\n",
              "        vertical-align: top;\n",
              "    }\n",
              "\n",
              "    .dataframe thead th {\n",
              "        text-align: right;\n",
              "    }\n",
              "</style>\n",
              "<table border=\"1\" class=\"dataframe\">\n",
              "  <thead>\n",
              "    <tr style=\"text-align: right;\">\n",
              "      <th></th>\n",
              "      <th>SK_ID_CURR</th>\n",
              "      <th>NAME_CONTRACT_TYPE</th>\n",
              "      <th>CODE_GENDER</th>\n",
              "      <th>FLAG_OWN_CAR</th>\n",
              "      <th>FLAG_OWN_REALTY</th>\n",
              "      <th>CNT_CHILDREN</th>\n",
              "      <th>AMT_INCOME_TOTAL</th>\n",
              "      <th>AMT_CREDIT</th>\n",
              "      <th>NAME_INCOME_TYPE</th>\n",
              "      <th>NAME_EDUCATION_TYPE</th>\n",
              "      <th>...</th>\n",
              "      <th>FLAG_DOCUMENT_12</th>\n",
              "      <th>FLAG_DOCUMENT_13</th>\n",
              "      <th>FLAG_DOCUMENT_14</th>\n",
              "      <th>FLAG_DOCUMENT_15</th>\n",
              "      <th>FLAG_DOCUMENT_16</th>\n",
              "      <th>FLAG_DOCUMENT_17</th>\n",
              "      <th>FLAG_DOCUMENT_18</th>\n",
              "      <th>FLAG_DOCUMENT_19</th>\n",
              "      <th>FLAG_DOCUMENT_20</th>\n",
              "      <th>FLAG_DOCUMENT_21</th>\n",
              "    </tr>\n",
              "  </thead>\n",
              "  <tbody>\n",
              "    <tr>\n",
              "      <th>120422</th>\n",
              "      <td>239630</td>\n",
              "      <td>Cash loans</td>\n",
              "      <td>F</td>\n",
              "      <td>Y</td>\n",
              "      <td>Y</td>\n",
              "      <td>1</td>\n",
              "      <td>112500.0</td>\n",
              "      <td>270000.0</td>\n",
              "      <td>Working</td>\n",
              "      <td>Secondary / secondary special</td>\n",
              "      <td>...</td>\n",
              "      <td>0</td>\n",
              "      <td>0</td>\n",
              "      <td>0</td>\n",
              "      <td>0</td>\n",
              "      <td>0</td>\n",
              "      <td>0</td>\n",
              "      <td>0</td>\n",
              "      <td>0</td>\n",
              "      <td>0</td>\n",
              "      <td>0</td>\n",
              "    </tr>\n",
              "    <tr>\n",
              "      <th>275612</th>\n",
              "      <td>419391</td>\n",
              "      <td>Cash loans</td>\n",
              "      <td>F</td>\n",
              "      <td>N</td>\n",
              "      <td>N</td>\n",
              "      <td>0</td>\n",
              "      <td>135000.0</td>\n",
              "      <td>412942.5</td>\n",
              "      <td>Working</td>\n",
              "      <td>Secondary / secondary special</td>\n",
              "      <td>...</td>\n",
              "      <td>0</td>\n",
              "      <td>0</td>\n",
              "      <td>0</td>\n",
              "      <td>0</td>\n",
              "      <td>0</td>\n",
              "      <td>0</td>\n",
              "      <td>0</td>\n",
              "      <td>0</td>\n",
              "      <td>0</td>\n",
              "      <td>0</td>\n",
              "    </tr>\n",
              "    <tr>\n",
              "      <th>186973</th>\n",
              "      <td>316749</td>\n",
              "      <td>Cash loans</td>\n",
              "      <td>M</td>\n",
              "      <td>N</td>\n",
              "      <td>Y</td>\n",
              "      <td>0</td>\n",
              "      <td>225000.0</td>\n",
              "      <td>269550.0</td>\n",
              "      <td>Working</td>\n",
              "      <td>Higher education</td>\n",
              "      <td>...</td>\n",
              "      <td>0</td>\n",
              "      <td>0</td>\n",
              "      <td>0</td>\n",
              "      <td>0</td>\n",
              "      <td>0</td>\n",
              "      <td>0</td>\n",
              "      <td>0</td>\n",
              "      <td>0</td>\n",
              "      <td>0</td>\n",
              "      <td>0</td>\n",
              "    </tr>\n",
              "    <tr>\n",
              "      <th>112525</th>\n",
              "      <td>230533</td>\n",
              "      <td>Cash loans</td>\n",
              "      <td>F</td>\n",
              "      <td>N</td>\n",
              "      <td>N</td>\n",
              "      <td>1</td>\n",
              "      <td>90000.0</td>\n",
              "      <td>315000.0</td>\n",
              "      <td>Pensioner</td>\n",
              "      <td>Secondary / secondary special</td>\n",
              "      <td>...</td>\n",
              "      <td>0</td>\n",
              "      <td>0</td>\n",
              "      <td>0</td>\n",
              "      <td>0</td>\n",
              "      <td>0</td>\n",
              "      <td>0</td>\n",
              "      <td>0</td>\n",
              "      <td>0</td>\n",
              "      <td>0</td>\n",
              "      <td>0</td>\n",
              "    </tr>\n",
              "    <tr>\n",
              "      <th>162524</th>\n",
              "      <td>288413</td>\n",
              "      <td>Cash loans</td>\n",
              "      <td>M</td>\n",
              "      <td>Y</td>\n",
              "      <td>N</td>\n",
              "      <td>0</td>\n",
              "      <td>360000.0</td>\n",
              "      <td>2517300.0</td>\n",
              "      <td>Commercial associate</td>\n",
              "      <td>Higher education</td>\n",
              "      <td>...</td>\n",
              "      <td>0</td>\n",
              "      <td>0</td>\n",
              "      <td>0</td>\n",
              "      <td>0</td>\n",
              "      <td>0</td>\n",
              "      <td>0</td>\n",
              "      <td>0</td>\n",
              "      <td>0</td>\n",
              "      <td>0</td>\n",
              "      <td>0</td>\n",
              "    </tr>\n",
              "  </tbody>\n",
              "</table>\n",
              "<p>5 rows × 54 columns</p>\n",
              "</div>\n",
              "      <button class=\"colab-df-convert\" onclick=\"convertToInteractive('df-255cdfb0-b37c-497a-b50d-c0d275f4617d')\"\n",
              "              title=\"Convert this dataframe to an interactive table.\"\n",
              "              style=\"display:none;\">\n",
              "        \n",
              "  <svg xmlns=\"http://www.w3.org/2000/svg\" height=\"24px\"viewBox=\"0 0 24 24\"\n",
              "       width=\"24px\">\n",
              "    <path d=\"M0 0h24v24H0V0z\" fill=\"none\"/>\n",
              "    <path d=\"M18.56 5.44l.94 2.06.94-2.06 2.06-.94-2.06-.94-.94-2.06-.94 2.06-2.06.94zm-11 1L8.5 8.5l.94-2.06 2.06-.94-2.06-.94L8.5 2.5l-.94 2.06-2.06.94zm10 10l.94 2.06.94-2.06 2.06-.94-2.06-.94-.94-2.06-.94 2.06-2.06.94z\"/><path d=\"M17.41 7.96l-1.37-1.37c-.4-.4-.92-.59-1.43-.59-.52 0-1.04.2-1.43.59L10.3 9.45l-7.72 7.72c-.78.78-.78 2.05 0 2.83L4 21.41c.39.39.9.59 1.41.59.51 0 1.02-.2 1.41-.59l7.78-7.78 2.81-2.81c.8-.78.8-2.07 0-2.86zM5.41 20L4 18.59l7.72-7.72 1.47 1.35L5.41 20z\"/>\n",
              "  </svg>\n",
              "      </button>\n",
              "      \n",
              "  <style>\n",
              "    .colab-df-container {\n",
              "      display:flex;\n",
              "      flex-wrap:wrap;\n",
              "      gap: 12px;\n",
              "    }\n",
              "\n",
              "    .colab-df-convert {\n",
              "      background-color: #E8F0FE;\n",
              "      border: none;\n",
              "      border-radius: 50%;\n",
              "      cursor: pointer;\n",
              "      display: none;\n",
              "      fill: #1967D2;\n",
              "      height: 32px;\n",
              "      padding: 0 0 0 0;\n",
              "      width: 32px;\n",
              "    }\n",
              "\n",
              "    .colab-df-convert:hover {\n",
              "      background-color: #E2EBFA;\n",
              "      box-shadow: 0px 1px 2px rgba(60, 64, 67, 0.3), 0px 1px 3px 1px rgba(60, 64, 67, 0.15);\n",
              "      fill: #174EA6;\n",
              "    }\n",
              "\n",
              "    [theme=dark] .colab-df-convert {\n",
              "      background-color: #3B4455;\n",
              "      fill: #D2E3FC;\n",
              "    }\n",
              "\n",
              "    [theme=dark] .colab-df-convert:hover {\n",
              "      background-color: #434B5C;\n",
              "      box-shadow: 0px 1px 3px 1px rgba(0, 0, 0, 0.15);\n",
              "      filter: drop-shadow(0px 1px 2px rgba(0, 0, 0, 0.3));\n",
              "      fill: #FFFFFF;\n",
              "    }\n",
              "  </style>\n",
              "\n",
              "      <script>\n",
              "        const buttonEl =\n",
              "          document.querySelector('#df-255cdfb0-b37c-497a-b50d-c0d275f4617d button.colab-df-convert');\n",
              "        buttonEl.style.display =\n",
              "          google.colab.kernel.accessAllowed ? 'block' : 'none';\n",
              "\n",
              "        async function convertToInteractive(key) {\n",
              "          const element = document.querySelector('#df-255cdfb0-b37c-497a-b50d-c0d275f4617d');\n",
              "          const dataTable =\n",
              "            await google.colab.kernel.invokeFunction('convertToInteractive',\n",
              "                                                     [key], {});\n",
              "          if (!dataTable) return;\n",
              "\n",
              "          const docLinkHtml = 'Like what you see? Visit the ' +\n",
              "            '<a target=\"_blank\" href=https://colab.research.google.com/notebooks/data_table.ipynb>data table notebook</a>'\n",
              "            + ' to learn more about interactive tables.';\n",
              "          element.innerHTML = '';\n",
              "          dataTable['output_type'] = 'display_data';\n",
              "          await google.colab.output.renderOutput(dataTable, element);\n",
              "          const docLink = document.createElement('div');\n",
              "          docLink.innerHTML = docLinkHtml;\n",
              "          element.appendChild(docLink);\n",
              "        }\n",
              "      </script>\n",
              "    </div>\n",
              "  </div>\n",
              "  "
            ]
          },
          "metadata": {},
          "execution_count": 94
        }
      ]
    },
    {
      "cell_type": "code",
      "source": [
        "# Scaling Train Dataset\n",
        "names = X_train_fraud.select_dtypes(include=[np.float64, np.int64]).columns\n",
        "scaler = MinMaxScaler(feature_range=(0, 1))\n",
        "scaler = scaler.fit(X_train_fraud[names])\n",
        "X_train_fraud[names] = scaler.transform(X_train_fraud[names])"
      ],
      "metadata": {
        "id": "QpB1a1pgcMGy"
      },
      "execution_count": null,
      "outputs": []
    },
    {
      "cell_type": "code",
      "source": [
        "scaler = MinMaxScaler(feature_range=(0, 1))\n",
        "scaler = scaler.fit(X_val_fraud[names])\n",
        "X_val_fraud[names] = scaler.transform(X_val_fraud[names])"
      ],
      "metadata": {
        "id": "HHik3-UYdYAn"
      },
      "execution_count": null,
      "outputs": []
    },
    {
      "cell_type": "code",
      "source": [
        "scaler = MinMaxScaler(feature_range=(0, 1))\n",
        "scaler = scaler.fit(X_test_fraud[names])\n",
        "X_test_fraud[names] = scaler.transform(X_test_fraud[names])"
      ],
      "metadata": {
        "id": "HcyvZzOadf58"
      },
      "execution_count": null,
      "outputs": []
    },
    {
      "cell_type": "code",
      "source": [
        "object_cols = ['NAME_CONTRACT_TYPE', 'CODE_GENDER', 'FLAG_OWN_CAR', 'FLAG_OWN_REALTY', 'NAME_INCOME_TYPE',\n",
        "               'NAME_EDUCATION_TYPE', 'NAME_FAMILY_STATUS', 'NAME_HOUSING_TYPE', 'ORGANIZATION_TYPE', 'WEEKDAY_APPR_PROCESS_START']\n",
        "encoder = OrdinalEncoder()\n",
        "X_train_fraud[object_cols] = encoder.fit_transform(X_train_fraud[object_cols])\n",
        "X_val_fraud[object_cols] = encoder.fit_transform(X_val_fraud[object_cols])\n",
        "X_test_fraud[object_cols] = encoder.fit_transform(X_test_fraud[object_cols])\n"
      ],
      "metadata": {
        "id": "sPDgrNJodw0K"
      },
      "execution_count": null,
      "outputs": []
    },
    {
      "cell_type": "code",
      "source": [
        "X_val_fraud.head()"
      ],
      "metadata": {
        "colab": {
          "base_uri": "https://localhost:8080/",
          "height": 300
        },
        "id": "G6uGOHq2fLFv",
        "outputId": "74841f96-9098-4628-9f22-e6bd4206f145"
      },
      "execution_count": null,
      "outputs": [
        {
          "output_type": "execute_result",
          "data": {
            "text/plain": [
              "        SK_ID_CURR  NAME_CONTRACT_TYPE  CODE_GENDER  FLAG_OWN_CAR  \\\n",
              "137599    0.447936                 0.0          0.0           0.0   \n",
              "136284    0.443717                 0.0          1.0           1.0   \n",
              "171864    0.559096                 0.0          0.0           0.0   \n",
              "120051    0.390762                 0.0          1.0           0.0   \n",
              "118048    0.384230                 0.0          0.0           0.0   \n",
              "\n",
              "        FLAG_OWN_REALTY  CNT_CHILDREN  AMT_INCOME_TOTAL  AMT_CREDIT  \\\n",
              "137599              1.0      0.000000          0.013125    0.310449   \n",
              "136284              0.0      0.000000          0.001436    0.066858   \n",
              "171864              1.0      0.000000          0.003774    0.008989   \n",
              "120051              1.0      0.111111          0.008115    0.209519   \n",
              "118048              1.0      0.000000          0.011455    0.392252   \n",
              "\n",
              "        NAME_INCOME_TYPE  NAME_EDUCATION_TYPE  ...  FLAG_DOCUMENT_12  \\\n",
              "137599               5.0                  4.0  ...               0.0   \n",
              "136284               2.0                  3.0  ...               0.0   \n",
              "171864               5.0                  1.0  ...               0.0   \n",
              "120051               1.0                  4.0  ...               0.0   \n",
              "118048               1.0                  4.0  ...               0.0   \n",
              "\n",
              "        FLAG_DOCUMENT_13  FLAG_DOCUMENT_14  FLAG_DOCUMENT_15  \\\n",
              "137599               0.0               0.0               0.0   \n",
              "136284               0.0               0.0               0.0   \n",
              "171864               0.0               0.0               0.0   \n",
              "120051               0.0               0.0               0.0   \n",
              "118048               0.0               0.0               0.0   \n",
              "\n",
              "        FLAG_DOCUMENT_16  FLAG_DOCUMENT_17  FLAG_DOCUMENT_18  \\\n",
              "137599               0.0               0.0               0.0   \n",
              "136284               0.0               0.0               0.0   \n",
              "171864               0.0               0.0               0.0   \n",
              "120051               0.0               0.0               0.0   \n",
              "118048               0.0               0.0               0.0   \n",
              "\n",
              "        FLAG_DOCUMENT_19  FLAG_DOCUMENT_20  FLAG_DOCUMENT_21  \n",
              "137599               0.0               0.0               0.0  \n",
              "136284               0.0               0.0               0.0  \n",
              "171864               0.0               0.0               0.0  \n",
              "120051               0.0               0.0               0.0  \n",
              "118048               0.0               0.0               0.0  \n",
              "\n",
              "[5 rows x 54 columns]"
            ],
            "text/html": [
              "\n",
              "  <div id=\"df-82b540ab-dbdb-41ef-bb51-820e5c74690a\">\n",
              "    <div class=\"colab-df-container\">\n",
              "      <div>\n",
              "<style scoped>\n",
              "    .dataframe tbody tr th:only-of-type {\n",
              "        vertical-align: middle;\n",
              "    }\n",
              "\n",
              "    .dataframe tbody tr th {\n",
              "        vertical-align: top;\n",
              "    }\n",
              "\n",
              "    .dataframe thead th {\n",
              "        text-align: right;\n",
              "    }\n",
              "</style>\n",
              "<table border=\"1\" class=\"dataframe\">\n",
              "  <thead>\n",
              "    <tr style=\"text-align: right;\">\n",
              "      <th></th>\n",
              "      <th>SK_ID_CURR</th>\n",
              "      <th>NAME_CONTRACT_TYPE</th>\n",
              "      <th>CODE_GENDER</th>\n",
              "      <th>FLAG_OWN_CAR</th>\n",
              "      <th>FLAG_OWN_REALTY</th>\n",
              "      <th>CNT_CHILDREN</th>\n",
              "      <th>AMT_INCOME_TOTAL</th>\n",
              "      <th>AMT_CREDIT</th>\n",
              "      <th>NAME_INCOME_TYPE</th>\n",
              "      <th>NAME_EDUCATION_TYPE</th>\n",
              "      <th>...</th>\n",
              "      <th>FLAG_DOCUMENT_12</th>\n",
              "      <th>FLAG_DOCUMENT_13</th>\n",
              "      <th>FLAG_DOCUMENT_14</th>\n",
              "      <th>FLAG_DOCUMENT_15</th>\n",
              "      <th>FLAG_DOCUMENT_16</th>\n",
              "      <th>FLAG_DOCUMENT_17</th>\n",
              "      <th>FLAG_DOCUMENT_18</th>\n",
              "      <th>FLAG_DOCUMENT_19</th>\n",
              "      <th>FLAG_DOCUMENT_20</th>\n",
              "      <th>FLAG_DOCUMENT_21</th>\n",
              "    </tr>\n",
              "  </thead>\n",
              "  <tbody>\n",
              "    <tr>\n",
              "      <th>137599</th>\n",
              "      <td>0.447936</td>\n",
              "      <td>0.0</td>\n",
              "      <td>0.0</td>\n",
              "      <td>0.0</td>\n",
              "      <td>1.0</td>\n",
              "      <td>0.000000</td>\n",
              "      <td>0.013125</td>\n",
              "      <td>0.310449</td>\n",
              "      <td>5.0</td>\n",
              "      <td>4.0</td>\n",
              "      <td>...</td>\n",
              "      <td>0.0</td>\n",
              "      <td>0.0</td>\n",
              "      <td>0.0</td>\n",
              "      <td>0.0</td>\n",
              "      <td>0.0</td>\n",
              "      <td>0.0</td>\n",
              "      <td>0.0</td>\n",
              "      <td>0.0</td>\n",
              "      <td>0.0</td>\n",
              "      <td>0.0</td>\n",
              "    </tr>\n",
              "    <tr>\n",
              "      <th>136284</th>\n",
              "      <td>0.443717</td>\n",
              "      <td>0.0</td>\n",
              "      <td>1.0</td>\n",
              "      <td>1.0</td>\n",
              "      <td>0.0</td>\n",
              "      <td>0.000000</td>\n",
              "      <td>0.001436</td>\n",
              "      <td>0.066858</td>\n",
              "      <td>2.0</td>\n",
              "      <td>3.0</td>\n",
              "      <td>...</td>\n",
              "      <td>0.0</td>\n",
              "      <td>0.0</td>\n",
              "      <td>0.0</td>\n",
              "      <td>0.0</td>\n",
              "      <td>0.0</td>\n",
              "      <td>0.0</td>\n",
              "      <td>0.0</td>\n",
              "      <td>0.0</td>\n",
              "      <td>0.0</td>\n",
              "      <td>0.0</td>\n",
              "    </tr>\n",
              "    <tr>\n",
              "      <th>171864</th>\n",
              "      <td>0.559096</td>\n",
              "      <td>0.0</td>\n",
              "      <td>0.0</td>\n",
              "      <td>0.0</td>\n",
              "      <td>1.0</td>\n",
              "      <td>0.000000</td>\n",
              "      <td>0.003774</td>\n",
              "      <td>0.008989</td>\n",
              "      <td>5.0</td>\n",
              "      <td>1.0</td>\n",
              "      <td>...</td>\n",
              "      <td>0.0</td>\n",
              "      <td>0.0</td>\n",
              "      <td>0.0</td>\n",
              "      <td>0.0</td>\n",
              "      <td>0.0</td>\n",
              "      <td>0.0</td>\n",
              "      <td>0.0</td>\n",
              "      <td>0.0</td>\n",
              "      <td>0.0</td>\n",
              "      <td>0.0</td>\n",
              "    </tr>\n",
              "    <tr>\n",
              "      <th>120051</th>\n",
              "      <td>0.390762</td>\n",
              "      <td>0.0</td>\n",
              "      <td>1.0</td>\n",
              "      <td>0.0</td>\n",
              "      <td>1.0</td>\n",
              "      <td>0.111111</td>\n",
              "      <td>0.008115</td>\n",
              "      <td>0.209519</td>\n",
              "      <td>1.0</td>\n",
              "      <td>4.0</td>\n",
              "      <td>...</td>\n",
              "      <td>0.0</td>\n",
              "      <td>0.0</td>\n",
              "      <td>0.0</td>\n",
              "      <td>0.0</td>\n",
              "      <td>0.0</td>\n",
              "      <td>0.0</td>\n",
              "      <td>0.0</td>\n",
              "      <td>0.0</td>\n",
              "      <td>0.0</td>\n",
              "      <td>0.0</td>\n",
              "    </tr>\n",
              "    <tr>\n",
              "      <th>118048</th>\n",
              "      <td>0.384230</td>\n",
              "      <td>0.0</td>\n",
              "      <td>0.0</td>\n",
              "      <td>0.0</td>\n",
              "      <td>1.0</td>\n",
              "      <td>0.000000</td>\n",
              "      <td>0.011455</td>\n",
              "      <td>0.392252</td>\n",
              "      <td>1.0</td>\n",
              "      <td>4.0</td>\n",
              "      <td>...</td>\n",
              "      <td>0.0</td>\n",
              "      <td>0.0</td>\n",
              "      <td>0.0</td>\n",
              "      <td>0.0</td>\n",
              "      <td>0.0</td>\n",
              "      <td>0.0</td>\n",
              "      <td>0.0</td>\n",
              "      <td>0.0</td>\n",
              "      <td>0.0</td>\n",
              "      <td>0.0</td>\n",
              "    </tr>\n",
              "  </tbody>\n",
              "</table>\n",
              "<p>5 rows × 54 columns</p>\n",
              "</div>\n",
              "      <button class=\"colab-df-convert\" onclick=\"convertToInteractive('df-82b540ab-dbdb-41ef-bb51-820e5c74690a')\"\n",
              "              title=\"Convert this dataframe to an interactive table.\"\n",
              "              style=\"display:none;\">\n",
              "        \n",
              "  <svg xmlns=\"http://www.w3.org/2000/svg\" height=\"24px\"viewBox=\"0 0 24 24\"\n",
              "       width=\"24px\">\n",
              "    <path d=\"M0 0h24v24H0V0z\" fill=\"none\"/>\n",
              "    <path d=\"M18.56 5.44l.94 2.06.94-2.06 2.06-.94-2.06-.94-.94-2.06-.94 2.06-2.06.94zm-11 1L8.5 8.5l.94-2.06 2.06-.94-2.06-.94L8.5 2.5l-.94 2.06-2.06.94zm10 10l.94 2.06.94-2.06 2.06-.94-2.06-.94-.94-2.06-.94 2.06-2.06.94z\"/><path d=\"M17.41 7.96l-1.37-1.37c-.4-.4-.92-.59-1.43-.59-.52 0-1.04.2-1.43.59L10.3 9.45l-7.72 7.72c-.78.78-.78 2.05 0 2.83L4 21.41c.39.39.9.59 1.41.59.51 0 1.02-.2 1.41-.59l7.78-7.78 2.81-2.81c.8-.78.8-2.07 0-2.86zM5.41 20L4 18.59l7.72-7.72 1.47 1.35L5.41 20z\"/>\n",
              "  </svg>\n",
              "      </button>\n",
              "      \n",
              "  <style>\n",
              "    .colab-df-container {\n",
              "      display:flex;\n",
              "      flex-wrap:wrap;\n",
              "      gap: 12px;\n",
              "    }\n",
              "\n",
              "    .colab-df-convert {\n",
              "      background-color: #E8F0FE;\n",
              "      border: none;\n",
              "      border-radius: 50%;\n",
              "      cursor: pointer;\n",
              "      display: none;\n",
              "      fill: #1967D2;\n",
              "      height: 32px;\n",
              "      padding: 0 0 0 0;\n",
              "      width: 32px;\n",
              "    }\n",
              "\n",
              "    .colab-df-convert:hover {\n",
              "      background-color: #E2EBFA;\n",
              "      box-shadow: 0px 1px 2px rgba(60, 64, 67, 0.3), 0px 1px 3px 1px rgba(60, 64, 67, 0.15);\n",
              "      fill: #174EA6;\n",
              "    }\n",
              "\n",
              "    [theme=dark] .colab-df-convert {\n",
              "      background-color: #3B4455;\n",
              "      fill: #D2E3FC;\n",
              "    }\n",
              "\n",
              "    [theme=dark] .colab-df-convert:hover {\n",
              "      background-color: #434B5C;\n",
              "      box-shadow: 0px 1px 3px 1px rgba(0, 0, 0, 0.15);\n",
              "      filter: drop-shadow(0px 1px 2px rgba(0, 0, 0, 0.3));\n",
              "      fill: #FFFFFF;\n",
              "    }\n",
              "  </style>\n",
              "\n",
              "      <script>\n",
              "        const buttonEl =\n",
              "          document.querySelector('#df-82b540ab-dbdb-41ef-bb51-820e5c74690a button.colab-df-convert');\n",
              "        buttonEl.style.display =\n",
              "          google.colab.kernel.accessAllowed ? 'block' : 'none';\n",
              "\n",
              "        async function convertToInteractive(key) {\n",
              "          const element = document.querySelector('#df-82b540ab-dbdb-41ef-bb51-820e5c74690a');\n",
              "          const dataTable =\n",
              "            await google.colab.kernel.invokeFunction('convertToInteractive',\n",
              "                                                     [key], {});\n",
              "          if (!dataTable) return;\n",
              "\n",
              "          const docLinkHtml = 'Like what you see? Visit the ' +\n",
              "            '<a target=\"_blank\" href=https://colab.research.google.com/notebooks/data_table.ipynb>data table notebook</a>'\n",
              "            + ' to learn more about interactive tables.';\n",
              "          element.innerHTML = '';\n",
              "          dataTable['output_type'] = 'display_data';\n",
              "          await google.colab.output.renderOutput(dataTable, element);\n",
              "          const docLink = document.createElement('div');\n",
              "          docLink.innerHTML = docLinkHtml;\n",
              "          element.appendChild(docLink);\n",
              "        }\n",
              "      </script>\n",
              "    </div>\n",
              "  </div>\n",
              "  "
            ]
          },
          "metadata": {},
          "execution_count": 99
        }
      ]
    },
    {
      "cell_type": "code",
      "source": [
        "#Decision tree\n",
        "dt_clf = DecisionTreeClassifier(random_state=1)\n",
        "\n",
        "dt_clf = dt_clf.fit(X_train_fraud,y_train_fraud)\n",
        "\n",
        "y_pred = dt_clf.predict(X_val_fraud)"
      ],
      "metadata": {
        "id": "CSEyrgnSAD5Q"
      },
      "execution_count": null,
      "outputs": []
    },
    {
      "cell_type": "code",
      "source": [
        "print(classification_report(y_val_fraud, y_pred))"
      ],
      "metadata": {
        "colab": {
          "base_uri": "https://localhost:8080/"
        },
        "id": "mfjpKN5Hi-Ck",
        "outputId": "c35c7c47-a2fe-40ec-c39b-6ba0b9766d7e"
      },
      "execution_count": null,
      "outputs": [
        {
          "output_type": "stream",
          "name": "stdout",
          "text": [
            "              precision    recall  f1-score   support\n",
            "\n",
            "           0       0.92      0.89      0.91     19826\n",
            "           1       0.09      0.13      0.11      1700\n",
            "\n",
            "    accuracy                           0.83     21526\n",
            "   macro avg       0.51      0.51      0.51     21526\n",
            "weighted avg       0.86      0.83      0.84     21526\n",
            "\n"
          ]
        }
      ]
    },
    {
      "cell_type": "code",
      "source": [
        "fi = pd.DataFrame({'features':X_train_fraud.columns,'importance':dt_clf.feature_importances_}).sort_values(by=['importance'], ascending=False)\n",
        "fi"
      ],
      "metadata": {
        "colab": {
          "base_uri": "https://localhost:8080/",
          "height": 1000
        },
        "id": "1TyPaMeiAgIf",
        "outputId": "9828ea9e-def0-46a9-a21f-62170085d80e"
      },
      "execution_count": null,
      "outputs": [
        {
          "output_type": "execute_result",
          "data": {
            "text/plain": [
              "                       features  importance\n",
              "15            DAYS_REGISTRATION    0.102081\n",
              "13                   DAYS_BIRTH    0.100913\n",
              "0                    SK_ID_CURR    0.098702\n",
              "16              DAYS_ID_PUBLISH    0.098140\n",
              "7                    AMT_CREDIT    0.086124\n",
              "14                DAYS_EMPLOYED    0.082883\n",
              "6              AMT_INCOME_TOTAL    0.063760\n",
              "12   REGION_POPULATION_RELATIVE    0.061457\n",
              "26      HOUR_APPR_PROCESS_START    0.054333\n",
              "33            ORGANIZATION_TYPE    0.041257\n",
              "25   WEEKDAY_APPR_PROCESS_START    0.031725\n",
              "10           NAME_FAMILY_STATUS    0.022308\n",
              "5                  CNT_CHILDREN    0.017637\n",
              "11            NAME_HOUSING_TYPE    0.012898\n",
              "9           NAME_EDUCATION_TYPE    0.012367\n",
              "8              NAME_INCOME_TYPE    0.011328\n",
              "4               FLAG_OWN_REALTY    0.009840\n",
              "19              FLAG_WORK_PHONE    0.008951\n",
              "21                   FLAG_PHONE    0.008115\n",
              "3                  FLAG_OWN_CAR    0.006936\n",
              "24  REGION_RATING_CLIENT_W_CITY    0.006295\n",
              "22                   FLAG_EMAIL    0.006065\n",
              "30       REG_CITY_NOT_LIVE_CITY    0.006035\n",
              "32      LIVE_CITY_NOT_WORK_CITY    0.005911\n",
              "31       REG_CITY_NOT_WORK_CITY    0.005861\n",
              "35              FLAG_DOCUMENT_3    0.005582\n",
              "23         REGION_RATING_CLIENT    0.005275\n",
              "2                   CODE_GENDER    0.005214\n",
              "29  LIVE_REGION_NOT_WORK_REGION    0.002801\n",
              "1            NAME_CONTRACT_TYPE    0.002640\n",
              "28   REG_REGION_NOT_WORK_REGION    0.002424\n",
              "40              FLAG_DOCUMENT_8    0.002337\n",
              "38              FLAG_DOCUMENT_6    0.002043\n",
              "37              FLAG_DOCUMENT_5    0.001996\n",
              "27   REG_REGION_NOT_LIVE_REGION    0.001900\n",
              "48             FLAG_DOCUMENT_16    0.001162\n",
              "50             FLAG_DOCUMENT_18    0.001113\n",
              "41              FLAG_DOCUMENT_9    0.000840\n",
              "18               FLAG_EMP_PHONE    0.000750\n",
              "20             FLAG_CONT_MOBILE    0.000386\n",
              "43             FLAG_DOCUMENT_11    0.000332\n",
              "51             FLAG_DOCUMENT_19    0.000270\n",
              "53             FLAG_DOCUMENT_21    0.000247\n",
              "52             FLAG_DOCUMENT_20    0.000216\n",
              "47             FLAG_DOCUMENT_15    0.000121\n",
              "39              FLAG_DOCUMENT_7    0.000115\n",
              "46             FLAG_DOCUMENT_14    0.000112\n",
              "34              FLAG_DOCUMENT_2    0.000091\n",
              "45             FLAG_DOCUMENT_13    0.000086\n",
              "49             FLAG_DOCUMENT_17    0.000026\n",
              "36              FLAG_DOCUMENT_4    0.000000\n",
              "42             FLAG_DOCUMENT_10    0.000000\n",
              "17                   FLAG_MOBIL    0.000000\n",
              "44             FLAG_DOCUMENT_12    0.000000"
            ],
            "text/html": [
              "\n",
              "  <div id=\"df-120c0f56-742b-422e-b9c7-74791b4f354b\">\n",
              "    <div class=\"colab-df-container\">\n",
              "      <div>\n",
              "<style scoped>\n",
              "    .dataframe tbody tr th:only-of-type {\n",
              "        vertical-align: middle;\n",
              "    }\n",
              "\n",
              "    .dataframe tbody tr th {\n",
              "        vertical-align: top;\n",
              "    }\n",
              "\n",
              "    .dataframe thead th {\n",
              "        text-align: right;\n",
              "    }\n",
              "</style>\n",
              "<table border=\"1\" class=\"dataframe\">\n",
              "  <thead>\n",
              "    <tr style=\"text-align: right;\">\n",
              "      <th></th>\n",
              "      <th>features</th>\n",
              "      <th>importance</th>\n",
              "    </tr>\n",
              "  </thead>\n",
              "  <tbody>\n",
              "    <tr>\n",
              "      <th>15</th>\n",
              "      <td>DAYS_REGISTRATION</td>\n",
              "      <td>0.102081</td>\n",
              "    </tr>\n",
              "    <tr>\n",
              "      <th>13</th>\n",
              "      <td>DAYS_BIRTH</td>\n",
              "      <td>0.100913</td>\n",
              "    </tr>\n",
              "    <tr>\n",
              "      <th>0</th>\n",
              "      <td>SK_ID_CURR</td>\n",
              "      <td>0.098702</td>\n",
              "    </tr>\n",
              "    <tr>\n",
              "      <th>16</th>\n",
              "      <td>DAYS_ID_PUBLISH</td>\n",
              "      <td>0.098140</td>\n",
              "    </tr>\n",
              "    <tr>\n",
              "      <th>7</th>\n",
              "      <td>AMT_CREDIT</td>\n",
              "      <td>0.086124</td>\n",
              "    </tr>\n",
              "    <tr>\n",
              "      <th>14</th>\n",
              "      <td>DAYS_EMPLOYED</td>\n",
              "      <td>0.082883</td>\n",
              "    </tr>\n",
              "    <tr>\n",
              "      <th>6</th>\n",
              "      <td>AMT_INCOME_TOTAL</td>\n",
              "      <td>0.063760</td>\n",
              "    </tr>\n",
              "    <tr>\n",
              "      <th>12</th>\n",
              "      <td>REGION_POPULATION_RELATIVE</td>\n",
              "      <td>0.061457</td>\n",
              "    </tr>\n",
              "    <tr>\n",
              "      <th>26</th>\n",
              "      <td>HOUR_APPR_PROCESS_START</td>\n",
              "      <td>0.054333</td>\n",
              "    </tr>\n",
              "    <tr>\n",
              "      <th>33</th>\n",
              "      <td>ORGANIZATION_TYPE</td>\n",
              "      <td>0.041257</td>\n",
              "    </tr>\n",
              "    <tr>\n",
              "      <th>25</th>\n",
              "      <td>WEEKDAY_APPR_PROCESS_START</td>\n",
              "      <td>0.031725</td>\n",
              "    </tr>\n",
              "    <tr>\n",
              "      <th>10</th>\n",
              "      <td>NAME_FAMILY_STATUS</td>\n",
              "      <td>0.022308</td>\n",
              "    </tr>\n",
              "    <tr>\n",
              "      <th>5</th>\n",
              "      <td>CNT_CHILDREN</td>\n",
              "      <td>0.017637</td>\n",
              "    </tr>\n",
              "    <tr>\n",
              "      <th>11</th>\n",
              "      <td>NAME_HOUSING_TYPE</td>\n",
              "      <td>0.012898</td>\n",
              "    </tr>\n",
              "    <tr>\n",
              "      <th>9</th>\n",
              "      <td>NAME_EDUCATION_TYPE</td>\n",
              "      <td>0.012367</td>\n",
              "    </tr>\n",
              "    <tr>\n",
              "      <th>8</th>\n",
              "      <td>NAME_INCOME_TYPE</td>\n",
              "      <td>0.011328</td>\n",
              "    </tr>\n",
              "    <tr>\n",
              "      <th>4</th>\n",
              "      <td>FLAG_OWN_REALTY</td>\n",
              "      <td>0.009840</td>\n",
              "    </tr>\n",
              "    <tr>\n",
              "      <th>19</th>\n",
              "      <td>FLAG_WORK_PHONE</td>\n",
              "      <td>0.008951</td>\n",
              "    </tr>\n",
              "    <tr>\n",
              "      <th>21</th>\n",
              "      <td>FLAG_PHONE</td>\n",
              "      <td>0.008115</td>\n",
              "    </tr>\n",
              "    <tr>\n",
              "      <th>3</th>\n",
              "      <td>FLAG_OWN_CAR</td>\n",
              "      <td>0.006936</td>\n",
              "    </tr>\n",
              "    <tr>\n",
              "      <th>24</th>\n",
              "      <td>REGION_RATING_CLIENT_W_CITY</td>\n",
              "      <td>0.006295</td>\n",
              "    </tr>\n",
              "    <tr>\n",
              "      <th>22</th>\n",
              "      <td>FLAG_EMAIL</td>\n",
              "      <td>0.006065</td>\n",
              "    </tr>\n",
              "    <tr>\n",
              "      <th>30</th>\n",
              "      <td>REG_CITY_NOT_LIVE_CITY</td>\n",
              "      <td>0.006035</td>\n",
              "    </tr>\n",
              "    <tr>\n",
              "      <th>32</th>\n",
              "      <td>LIVE_CITY_NOT_WORK_CITY</td>\n",
              "      <td>0.005911</td>\n",
              "    </tr>\n",
              "    <tr>\n",
              "      <th>31</th>\n",
              "      <td>REG_CITY_NOT_WORK_CITY</td>\n",
              "      <td>0.005861</td>\n",
              "    </tr>\n",
              "    <tr>\n",
              "      <th>35</th>\n",
              "      <td>FLAG_DOCUMENT_3</td>\n",
              "      <td>0.005582</td>\n",
              "    </tr>\n",
              "    <tr>\n",
              "      <th>23</th>\n",
              "      <td>REGION_RATING_CLIENT</td>\n",
              "      <td>0.005275</td>\n",
              "    </tr>\n",
              "    <tr>\n",
              "      <th>2</th>\n",
              "      <td>CODE_GENDER</td>\n",
              "      <td>0.005214</td>\n",
              "    </tr>\n",
              "    <tr>\n",
              "      <th>29</th>\n",
              "      <td>LIVE_REGION_NOT_WORK_REGION</td>\n",
              "      <td>0.002801</td>\n",
              "    </tr>\n",
              "    <tr>\n",
              "      <th>1</th>\n",
              "      <td>NAME_CONTRACT_TYPE</td>\n",
              "      <td>0.002640</td>\n",
              "    </tr>\n",
              "    <tr>\n",
              "      <th>28</th>\n",
              "      <td>REG_REGION_NOT_WORK_REGION</td>\n",
              "      <td>0.002424</td>\n",
              "    </tr>\n",
              "    <tr>\n",
              "      <th>40</th>\n",
              "      <td>FLAG_DOCUMENT_8</td>\n",
              "      <td>0.002337</td>\n",
              "    </tr>\n",
              "    <tr>\n",
              "      <th>38</th>\n",
              "      <td>FLAG_DOCUMENT_6</td>\n",
              "      <td>0.002043</td>\n",
              "    </tr>\n",
              "    <tr>\n",
              "      <th>37</th>\n",
              "      <td>FLAG_DOCUMENT_5</td>\n",
              "      <td>0.001996</td>\n",
              "    </tr>\n",
              "    <tr>\n",
              "      <th>27</th>\n",
              "      <td>REG_REGION_NOT_LIVE_REGION</td>\n",
              "      <td>0.001900</td>\n",
              "    </tr>\n",
              "    <tr>\n",
              "      <th>48</th>\n",
              "      <td>FLAG_DOCUMENT_16</td>\n",
              "      <td>0.001162</td>\n",
              "    </tr>\n",
              "    <tr>\n",
              "      <th>50</th>\n",
              "      <td>FLAG_DOCUMENT_18</td>\n",
              "      <td>0.001113</td>\n",
              "    </tr>\n",
              "    <tr>\n",
              "      <th>41</th>\n",
              "      <td>FLAG_DOCUMENT_9</td>\n",
              "      <td>0.000840</td>\n",
              "    </tr>\n",
              "    <tr>\n",
              "      <th>18</th>\n",
              "      <td>FLAG_EMP_PHONE</td>\n",
              "      <td>0.000750</td>\n",
              "    </tr>\n",
              "    <tr>\n",
              "      <th>20</th>\n",
              "      <td>FLAG_CONT_MOBILE</td>\n",
              "      <td>0.000386</td>\n",
              "    </tr>\n",
              "    <tr>\n",
              "      <th>43</th>\n",
              "      <td>FLAG_DOCUMENT_11</td>\n",
              "      <td>0.000332</td>\n",
              "    </tr>\n",
              "    <tr>\n",
              "      <th>51</th>\n",
              "      <td>FLAG_DOCUMENT_19</td>\n",
              "      <td>0.000270</td>\n",
              "    </tr>\n",
              "    <tr>\n",
              "      <th>53</th>\n",
              "      <td>FLAG_DOCUMENT_21</td>\n",
              "      <td>0.000247</td>\n",
              "    </tr>\n",
              "    <tr>\n",
              "      <th>52</th>\n",
              "      <td>FLAG_DOCUMENT_20</td>\n",
              "      <td>0.000216</td>\n",
              "    </tr>\n",
              "    <tr>\n",
              "      <th>47</th>\n",
              "      <td>FLAG_DOCUMENT_15</td>\n",
              "      <td>0.000121</td>\n",
              "    </tr>\n",
              "    <tr>\n",
              "      <th>39</th>\n",
              "      <td>FLAG_DOCUMENT_7</td>\n",
              "      <td>0.000115</td>\n",
              "    </tr>\n",
              "    <tr>\n",
              "      <th>46</th>\n",
              "      <td>FLAG_DOCUMENT_14</td>\n",
              "      <td>0.000112</td>\n",
              "    </tr>\n",
              "    <tr>\n",
              "      <th>34</th>\n",
              "      <td>FLAG_DOCUMENT_2</td>\n",
              "      <td>0.000091</td>\n",
              "    </tr>\n",
              "    <tr>\n",
              "      <th>45</th>\n",
              "      <td>FLAG_DOCUMENT_13</td>\n",
              "      <td>0.000086</td>\n",
              "    </tr>\n",
              "    <tr>\n",
              "      <th>49</th>\n",
              "      <td>FLAG_DOCUMENT_17</td>\n",
              "      <td>0.000026</td>\n",
              "    </tr>\n",
              "    <tr>\n",
              "      <th>36</th>\n",
              "      <td>FLAG_DOCUMENT_4</td>\n",
              "      <td>0.000000</td>\n",
              "    </tr>\n",
              "    <tr>\n",
              "      <th>42</th>\n",
              "      <td>FLAG_DOCUMENT_10</td>\n",
              "      <td>0.000000</td>\n",
              "    </tr>\n",
              "    <tr>\n",
              "      <th>17</th>\n",
              "      <td>FLAG_MOBIL</td>\n",
              "      <td>0.000000</td>\n",
              "    </tr>\n",
              "    <tr>\n",
              "      <th>44</th>\n",
              "      <td>FLAG_DOCUMENT_12</td>\n",
              "      <td>0.000000</td>\n",
              "    </tr>\n",
              "  </tbody>\n",
              "</table>\n",
              "</div>\n",
              "      <button class=\"colab-df-convert\" onclick=\"convertToInteractive('df-120c0f56-742b-422e-b9c7-74791b4f354b')\"\n",
              "              title=\"Convert this dataframe to an interactive table.\"\n",
              "              style=\"display:none;\">\n",
              "        \n",
              "  <svg xmlns=\"http://www.w3.org/2000/svg\" height=\"24px\"viewBox=\"0 0 24 24\"\n",
              "       width=\"24px\">\n",
              "    <path d=\"M0 0h24v24H0V0z\" fill=\"none\"/>\n",
              "    <path d=\"M18.56 5.44l.94 2.06.94-2.06 2.06-.94-2.06-.94-.94-2.06-.94 2.06-2.06.94zm-11 1L8.5 8.5l.94-2.06 2.06-.94-2.06-.94L8.5 2.5l-.94 2.06-2.06.94zm10 10l.94 2.06.94-2.06 2.06-.94-2.06-.94-.94-2.06-.94 2.06-2.06.94z\"/><path d=\"M17.41 7.96l-1.37-1.37c-.4-.4-.92-.59-1.43-.59-.52 0-1.04.2-1.43.59L10.3 9.45l-7.72 7.72c-.78.78-.78 2.05 0 2.83L4 21.41c.39.39.9.59 1.41.59.51 0 1.02-.2 1.41-.59l7.78-7.78 2.81-2.81c.8-.78.8-2.07 0-2.86zM5.41 20L4 18.59l7.72-7.72 1.47 1.35L5.41 20z\"/>\n",
              "  </svg>\n",
              "      </button>\n",
              "      \n",
              "  <style>\n",
              "    .colab-df-container {\n",
              "      display:flex;\n",
              "      flex-wrap:wrap;\n",
              "      gap: 12px;\n",
              "    }\n",
              "\n",
              "    .colab-df-convert {\n",
              "      background-color: #E8F0FE;\n",
              "      border: none;\n",
              "      border-radius: 50%;\n",
              "      cursor: pointer;\n",
              "      display: none;\n",
              "      fill: #1967D2;\n",
              "      height: 32px;\n",
              "      padding: 0 0 0 0;\n",
              "      width: 32px;\n",
              "    }\n",
              "\n",
              "    .colab-df-convert:hover {\n",
              "      background-color: #E2EBFA;\n",
              "      box-shadow: 0px 1px 2px rgba(60, 64, 67, 0.3), 0px 1px 3px 1px rgba(60, 64, 67, 0.15);\n",
              "      fill: #174EA6;\n",
              "    }\n",
              "\n",
              "    [theme=dark] .colab-df-convert {\n",
              "      background-color: #3B4455;\n",
              "      fill: #D2E3FC;\n",
              "    }\n",
              "\n",
              "    [theme=dark] .colab-df-convert:hover {\n",
              "      background-color: #434B5C;\n",
              "      box-shadow: 0px 1px 3px 1px rgba(0, 0, 0, 0.15);\n",
              "      filter: drop-shadow(0px 1px 2px rgba(0, 0, 0, 0.3));\n",
              "      fill: #FFFFFF;\n",
              "    }\n",
              "  </style>\n",
              "\n",
              "      <script>\n",
              "        const buttonEl =\n",
              "          document.querySelector('#df-120c0f56-742b-422e-b9c7-74791b4f354b button.colab-df-convert');\n",
              "        buttonEl.style.display =\n",
              "          google.colab.kernel.accessAllowed ? 'block' : 'none';\n",
              "\n",
              "        async function convertToInteractive(key) {\n",
              "          const element = document.querySelector('#df-120c0f56-742b-422e-b9c7-74791b4f354b');\n",
              "          const dataTable =\n",
              "            await google.colab.kernel.invokeFunction('convertToInteractive',\n",
              "                                                     [key], {});\n",
              "          if (!dataTable) return;\n",
              "\n",
              "          const docLinkHtml = 'Like what you see? Visit the ' +\n",
              "            '<a target=\"_blank\" href=https://colab.research.google.com/notebooks/data_table.ipynb>data table notebook</a>'\n",
              "            + ' to learn more about interactive tables.';\n",
              "          element.innerHTML = '';\n",
              "          dataTable['output_type'] = 'display_data';\n",
              "          await google.colab.output.renderOutput(dataTable, element);\n",
              "          const docLink = document.createElement('div');\n",
              "          docLink.innerHTML = docLinkHtml;\n",
              "          element.appendChild(docLink);\n",
              "        }\n",
              "      </script>\n",
              "    </div>\n",
              "  </div>\n",
              "  "
            ]
          },
          "metadata": {},
          "execution_count": 102
        }
      ]
    },
    {
      "cell_type": "code",
      "source": [
        "features = ['DAYS_REGISTRATION', 'DAYS_BIRTH', 'SK_ID_CURR', 'DAYS_ID_PUBLISH', 'AMT_CREDIT',\n",
        "          'DAYS_EMPLOYED', 'AMT_INCOME_TOTAL', 'REGION_POPULATION_RELATIVE', 'HOUR_APPR_PROCESS_START', 'ORGANIZATION_TYPE']"
      ],
      "metadata": {
        "id": "7YFhra0SA6TN"
      },
      "execution_count": null,
      "outputs": []
    },
    {
      "cell_type": "code",
      "source": [
        "sm = SMOTE(sampling_strategy='minority', random_state=42)\n",
        "Xsm_train_fraud, ysm_train_fraud = sm.fit_resample(X_train_fraud, y_train_fraud)"
      ],
      "metadata": {
        "id": "6QKnGPUEUj03"
      },
      "execution_count": null,
      "outputs": []
    },
    {
      "cell_type": "code",
      "source": [
        "X_train_fraud_scaled = X_train_fraud[features]\n",
        "X_val_fraud_scaled = X_val_fraud[features]\n",
        "X_test_fraud_scaled = X_test_fraud[features]"
      ],
      "metadata": {
        "id": "QVVP2bCURkK1"
      },
      "execution_count": null,
      "outputs": []
    },
    {
      "cell_type": "code",
      "source": [
        "sm = SMOTE(sampling_strategy='minority', random_state=42)\n",
        "Xsm_train_fraud_scaled, ysm_train_fraud_scaled = sm.fit_resample(X_train_fraud_scaled, y_train_fraud)"
      ],
      "metadata": {
        "id": "tuyj2abSTSIg"
      },
      "execution_count": null,
      "outputs": []
    },
    {
      "cell_type": "code",
      "source": [
        "n_inputs = Xsm_train_fraud_scaled.shape[1]\n",
        "\n",
        "fraud_model = Sequential([\n",
        "    Dense(n_inputs, input_shape=(n_inputs, ), activation='relu'),\n",
        "    Dense(32, activation='relu'),\n",
        "    Dense(2, activation='softmax')\n",
        "])\n",
        "\n"
      ],
      "metadata": {
        "id": "8CtEO-1RB9vJ"
      },
      "execution_count": null,
      "outputs": []
    },
    {
      "cell_type": "code",
      "source": [
        "fraud_model.compile(Adam(lr=0.001), loss='sparse_categorical_crossentropy', metrics=['accuracy'])"
      ],
      "metadata": {
        "colab": {
          "base_uri": "https://localhost:8080/"
        },
        "id": "u1R0h-ABQbEF",
        "outputId": "fff1930e-63ba-4309-9c74-ea4baeb3978b"
      },
      "execution_count": null,
      "outputs": [
        {
          "output_type": "stream",
          "name": "stderr",
          "text": [
            "/usr/local/lib/python3.8/dist-packages/keras/optimizers/optimizer_v2/adam.py:110: UserWarning: The `lr` argument is deprecated, use `learning_rate` instead.\n",
            "  super(Adam, self).__init__(name, **kwargs)\n"
          ]
        }
      ]
    },
    {
      "cell_type": "code",
      "source": [
        "fraud_callback = tf.keras.callbacks.EarlyStopping(monitor='val_loss', patience=3)"
      ],
      "metadata": {
        "id": "iYG0IdHTWiWB"
      },
      "execution_count": null,
      "outputs": []
    },
    {
      "cell_type": "code",
      "source": [
        "fraud_model.fit(Xsm_train_fraud_scaled, ysm_train_fraud_scaled, validation_data=(X_val_fraud_scaled,y_val_fraud)\n",
        "              , batch_size=25, epochs=20, verbose=2, callbacks = [fraud_callback])"
      ],
      "metadata": {
        "colab": {
          "base_uri": "https://localhost:8080/"
        },
        "id": "XPgb0Tl0VXhm",
        "outputId": "7a00e30c-ab61-4590-ab0c-4f376f107b1c"
      },
      "execution_count": null,
      "outputs": [
        {
          "output_type": "stream",
          "name": "stdout",
          "text": [
            "Epoch 1/20\n",
            "14246/14246 - 21s - loss: 0.6786 - accuracy: 0.5699 - val_loss: 0.7241 - val_accuracy: 0.4649 - 21s/epoch - 1ms/step\n",
            "Epoch 2/20\n",
            "14246/14246 - 20s - loss: 0.6723 - accuracy: 0.5852 - val_loss: 0.6675 - val_accuracy: 0.5615 - 20s/epoch - 1ms/step\n",
            "Epoch 3/20\n",
            "14246/14246 - 20s - loss: 0.6686 - accuracy: 0.5940 - val_loss: 0.6758 - val_accuracy: 0.5524 - 20s/epoch - 1ms/step\n",
            "Epoch 4/20\n",
            "14246/14246 - 20s - loss: 0.6583 - accuracy: 0.6089 - val_loss: 0.6433 - val_accuracy: 0.6106 - 20s/epoch - 1ms/step\n",
            "Epoch 5/20\n",
            "14246/14246 - 23s - loss: 0.6553 - accuracy: 0.6131 - val_loss: 0.7529 - val_accuracy: 0.4528 - 23s/epoch - 2ms/step\n",
            "Epoch 6/20\n",
            "14246/14246 - 30s - loss: 0.6537 - accuracy: 0.6141 - val_loss: 0.6461 - val_accuracy: 0.5997 - 30s/epoch - 2ms/step\n",
            "Epoch 7/20\n",
            "14246/14246 - 20s - loss: 0.6525 - accuracy: 0.6164 - val_loss: 0.6761 - val_accuracy: 0.5681 - 20s/epoch - 1ms/step\n"
          ]
        },
        {
          "output_type": "execute_result",
          "data": {
            "text/plain": [
              "<keras.callbacks.History at 0x7f8c92a08310>"
            ]
          },
          "metadata": {},
          "execution_count": 58
        }
      ]
    },
    {
      "cell_type": "code",
      "source": [
        "yhat = fraud_model.predict(X_test_fraud_scaled)\n",
        "yhat"
      ],
      "metadata": {
        "colab": {
          "base_uri": "https://localhost:8080/"
        },
        "id": "gjfYJnugjh7x",
        "outputId": "232365c3-eb29-439b-a2a2-febf57b2d920"
      },
      "execution_count": null,
      "outputs": [
        {
          "output_type": "stream",
          "name": "stdout",
          "text": [
            "2883/2883 [==============================] - 3s 1ms/step\n"
          ]
        },
        {
          "output_type": "execute_result",
          "data": {
            "text/plain": [
              "array([[0.4277387 , 0.57226133],\n",
              "       [0.41295853, 0.58704144],\n",
              "       [0.83178717, 0.16821277],\n",
              "       ...,\n",
              "       [0.46237102, 0.53762895],\n",
              "       [0.53575814, 0.4642419 ],\n",
              "       [0.82595426, 0.17404567]], dtype=float32)"
            ]
          },
          "metadata": {},
          "execution_count": 77
        }
      ]
    },
    {
      "cell_type": "code",
      "source": [
        "def threshod_evaluation(yhat, threshold):\n",
        "    y_pred = []\n",
        "    for i in range(len(yhat)):\n",
        "      if yhat[i][0]>=threshold:\n",
        "        y_pred.append(0)\n",
        "      else:\n",
        "        y_pred.append(1)\n",
        "    return y_pred\n",
        "y_pred = threshod_evaluation(yhat, 0.5)"
      ],
      "metadata": {
        "id": "_JzIq3I1j4p9"
      },
      "execution_count": null,
      "outputs": []
    },
    {
      "cell_type": "code",
      "source": [
        "cm = confusion_matrix(y_test_fraud, y_pred)\n",
        "\n",
        "disp = ConfusionMatrixDisplay(confusion_matrix=cm)\n",
        "\n",
        "disp.plot(cmap=plt.cm.Blues)\n",
        "plt.show()"
      ],
      "metadata": {
        "colab": {
          "base_uri": "https://localhost:8080/",
          "height": 279
        },
        "id": "XDQvH44glxis",
        "outputId": "aff5e12c-d9f0-405e-b0a4-7d5c8d53a14f"
      },
      "execution_count": null,
      "outputs": [
        {
          "output_type": "display_data",
          "data": {
            "text/plain": [
              "<Figure size 432x288 with 2 Axes>"
            ],
            "image/png": "[encoded data removed]"
          },
          "metadata": {
            "needs_background": "light"
          }
        }
      ]
    },
    {
      "cell_type": "code",
      "source": [
        "print(classification_report(y_test_fraud, y_pred))"
      ],
      "metadata": {
        "colab": {
          "base_uri": "https://localhost:8080/"
        },
        "id": "ZJwUvRp5mBwQ",
        "outputId": "0566e39d-2164-41a5-f919-54cda90ba422"
      },
      "execution_count": null,
      "outputs": [
        {
          "output_type": "stream",
          "name": "stdout",
          "text": [
            "              precision    recall  f1-score   support\n",
            "\n",
            "           0       0.94      0.55      0.70     84787\n",
            "           1       0.11      0.60      0.18      7467\n",
            "\n",
            "    accuracy                           0.56     92254\n",
            "   macro avg       0.52      0.57      0.44     92254\n",
            "weighted avg       0.87      0.56      0.65     92254\n",
            "\n"
          ]
        }
      ]
    },
    {
      "cell_type": "code",
      "source": [
        "y_pred = threshod_evaluation(yhat, 0.3)"
      ],
      "metadata": {
        "id": "J7uwXYLPmo8E"
      },
      "execution_count": null,
      "outputs": []
    },
    {
      "cell_type": "code",
      "source": [
        "cm = confusion_matrix(y_test_fraud, y_pred)\n",
        "\n",
        "disp = ConfusionMatrixDisplay(confusion_matrix=cm)\n",
        "\n",
        "disp.plot(cmap=plt.cm.Blues)\n",
        "plt.show()"
      ],
      "metadata": {
        "colab": {
          "base_uri": "https://localhost:8080/",
          "height": 279
        },
        "id": "OPSEwj1gm3jk",
        "outputId": "a629af59-8ef8-4401-d27e-84dbca5f6fa0"
      },
      "execution_count": null,
      "outputs": [
        {
          "output_type": "display_data",
          "data": {
            "text/plain": [
              "<Figure size 432x288 with 2 Axes>"
            ],
            "image/png": "[encoded data removed]"
          },
          "metadata": {
            "needs_background": "light"
          }
        }
      ]
    },
    {
      "cell_type": "code",
      "source": [
        "print(classification_report(y_test_fraud, y_pred))"
      ],
      "metadata": {
        "colab": {
          "base_uri": "https://localhost:8080/"
        },
        "id": "TboXKiNQm4-c",
        "outputId": "b697f608-c2bf-443b-85ad-a47c562537c7"
      },
      "execution_count": null,
      "outputs": [
        {
          "output_type": "stream",
          "name": "stdout",
          "text": [
            "              precision    recall  f1-score   support\n",
            "\n",
            "           0       0.92      0.94      0.93     84787\n",
            "           1       0.15      0.13      0.14      7467\n",
            "\n",
            "    accuracy                           0.87     92254\n",
            "   macro avg       0.54      0.53      0.53     92254\n",
            "weighted avg       0.86      0.87      0.87     92254\n",
            "\n"
          ]
        }
      ]
    },
    {
      "cell_type": "code",
      "source": [
        "y_pred = threshod_evaluation(yhat, 0.4)"
      ],
      "metadata": {
        "id": "-4mIgwl0m62M"
      },
      "execution_count": null,
      "outputs": []
    },
    {
      "cell_type": "code",
      "source": [
        "cm = confusion_matrix(y_test_fraud, y_pred)\n",
        "\n",
        "disp = ConfusionMatrixDisplay(confusion_matrix=cm)\n",
        "\n",
        "disp.plot(cmap=plt.cm.Blues)\n",
        "plt.show()"
      ],
      "metadata": {
        "colab": {
          "base_uri": "https://localhost:8080/",
          "height": 279
        },
        "id": "RIzuGrzKnB_0",
        "outputId": "088cac8e-3894-49d7-c3f5-8066262c4e29"
      },
      "execution_count": null,
      "outputs": [
        {
          "output_type": "display_data",
          "data": {
            "text/plain": [
              "<Figure size 432x288 with 2 Axes>"
            ],
            "image/png": "[encoded data removed]"
          },
          "metadata": {
            "needs_background": "light"
          }
        }
      ]
    },
    {
      "cell_type": "code",
      "source": [
        "print(classification_report(y_test_fraud, y_pred))"
      ],
      "metadata": {
        "colab": {
          "base_uri": "https://localhost:8080/"
        },
        "id": "LKCAYSg4nDnL",
        "outputId": "3f86a441-028f-4950-b892-45ed63d0ed18"
      },
      "execution_count": null,
      "outputs": [
        {
          "output_type": "stream",
          "name": "stdout",
          "text": [
            "              precision    recall  f1-score   support\n",
            "\n",
            "           0       0.93      0.78      0.85     84787\n",
            "           1       0.12      0.36      0.18      7467\n",
            "\n",
            "    accuracy                           0.74     92254\n",
            "   macro avg       0.53      0.57      0.51     92254\n",
            "weighted avg       0.87      0.74      0.79     92254\n",
            "\n"
          ]
        }
      ]
    },
    {
      "cell_type": "code",
      "source": [
        "# import packages\n",
        "# matplotlib inline\n",
        "import pandas as pd\n",
        "import numpy as np\n",
        "from scipy import stats\n",
        "import tensorflow as tf\n",
        "import matplotlib.pyplot as plt\n",
        "import seaborn as sns\n",
        "import pickle\n",
        "from sklearn.model_selection import train_test_split\n",
        "from sklearn.metrics import confusion_matrix, precision_recall_curve\n",
        "from sklearn.metrics import recall_score, classification_report, auc, roc_curve\n",
        "from sklearn.metrics import precision_recall_fscore_support, f1_score\n",
        "from sklearn.preprocessing import StandardScaler\n",
        "from pylab import rcParams\n",
        "from keras.models import Model, load_model\n",
        "from keras.layers import Input, Dense\n",
        "from keras.callbacks import ModelCheckpoint, TensorBoard\n",
        "from keras import regularizers"
      ],
      "metadata": {
        "id": "X3JymmhVs8J-"
      },
      "execution_count": null,
      "outputs": []
    },
    {
      "cell_type": "code",
      "source": [
        "train_x, test_x = train_test_split(fraud_df, test_size=0.3, random_state=2)\n",
        "train_x, val_x = train_test_split(train_x, test_size=0.14, random_state=2)"
      ],
      "metadata": {
        "id": "3mNTueW6p5-_"
      },
      "execution_count": null,
      "outputs": []
    },
    {
      "cell_type": "code",
      "source": [
        "train_x_AE = train_x[train_x.TARGET == False]\n",
        "train_x_AE = train_x_AE.drop(['TARGET'], axis=1)"
      ],
      "metadata": {
        "id": "HHbjFZ-rnE8u"
      },
      "execution_count": null,
      "outputs": []
    },
    {
      "cell_type": "code",
      "source": [
        "val_y_AE = val_x[\"TARGET\"]\n",
        "val_x_AE = val_x.drop(['TARGET'], axis = 1)\n",
        "\n",
        "test_y_AE = test_x[\"TARGET\"]\n",
        "test_x_AE = test_x.drop(['TARGET'], axis = 1)"
      ],
      "metadata": {
        "id": "PruF7dLEoxg8"
      },
      "execution_count": null,
      "outputs": []
    },
    {
      "cell_type": "code",
      "source": [
        "# Scaling Train Dataset\n",
        "names = train_x_AE.select_dtypes(include=[np.float64, np.int64]).columns\n",
        "scaler = MinMaxScaler(feature_range=(0, 1))\n",
        "scaler = scaler.fit(train_x_AE[names])\n",
        "train_x_AE[names] = scaler.transform(train_x_AE[names])\n",
        "\n",
        "\n",
        "scaler = MinMaxScaler(feature_range=(0, 1))\n",
        "scaler = scaler.fit(val_x_AE[names])\n",
        "val_x_AE[names] = scaler.transform(val_x_AE[names])\n",
        "\n",
        "\n",
        "scaler = MinMaxScaler(feature_range=(0, 1))\n",
        "scaler = scaler.fit(test_x_AE[names])\n",
        "test_x_AE[names] = scaler.transform(test_x_AE[names])"
      ],
      "metadata": {
        "id": "LPwx_ojgr6Pn"
      },
      "execution_count": null,
      "outputs": []
    },
    {
      "cell_type": "code",
      "source": [
        "encoder = OrdinalEncoder()\n",
        "train_x_AE[object_cols] = encoder.fit_transform(train_x_AE[object_cols])\n",
        "val_x_AE[object_cols] = encoder.fit_transform(val_x_AE[object_cols])\n",
        "test_x_AE[object_cols] = encoder.fit_transform(test_x_AE[object_cols])"
      ],
      "metadata": {
        "id": "lhqlQrhDsHdz"
      },
      "execution_count": null,
      "outputs": []
    },
    {
      "cell_type": "code",
      "source": [
        "nb_epoch = 50\n",
        "batch_size = 128\n",
        "input_dim = train_x_AE.shape[1] #num of columns, 54\n",
        "encoding_dim = 18\n",
        "hidden_dim1 = 10 #int(encoding_dim / 2) #i.e. 7\n",
        "hidden_dim2 = 6\n",
        "learning_rate = 1e-7\n",
        "\n"
      ],
      "metadata": {
        "id": "AeLFrxdMsnKJ"
      },
      "execution_count": null,
      "outputs": []
    },
    {
      "cell_type": "code",
      "source": [
        "# This returns a tensor\n",
        "input_layer = Input(shape=(input_dim, ))\n",
        "\n",
        "# a layer instance is callable on a tensor, and returns a tensor\n",
        "# Dense implements the operation: output = activation(dot(input, kernel) + bias), where\n",
        "# activation is the element-wise activation function passed as the activation argument,\n",
        "# kernel is a weights matrix created by the layer, and\n",
        "# bias is a bias vector created by the layer (only applicable if use_bias is True).\n",
        "\n",
        "# activity_regularizer: Regularizer function applied to the output of the layer\n",
        "encoder = Dense(encoding_dim, activation=\"tanh\",\n",
        "                activity_regularizer=regularizers.l1(learning_rate))(input_layer)\n",
        "encoder = Dense(hidden_dim1, activation=\"elu\")(encoder)\n",
        "encoder = Dense(hidden_dim2, activation=\"tanh\")(encoder)\n",
        "decoder = Dense(hidden_dim2, activation='elu')(encoder)\n",
        "decoder = Dense(hidden_dim1, activation='tanh')(decoder)\n",
        "decoder = Dense(input_dim, activation='elu')(decoder)\n",
        "\n",
        "# This creates a model that includes\n",
        "# the Input layer and four Dense layers\n",
        "autoencoder = Model(inputs=input_layer, outputs=decoder)"
      ],
      "metadata": {
        "id": "emsJ-KYQssO2"
      },
      "execution_count": null,
      "outputs": []
    },
    {
      "cell_type": "code",
      "source": [
        "train_x_AE.shape"
      ],
      "metadata": {
        "colab": {
          "base_uri": "https://localhost:8080/"
        },
        "id": "m96svXW6tdiG",
        "outputId": "9bb15ef3-ca9e-4f99-ee77-d805bd0eb854"
      },
      "execution_count": null,
      "outputs": [
        {
          "output_type": "execute_result",
          "data": {
            "text/plain": [
              "(170171, 54)"
            ]
          },
          "metadata": {},
          "execution_count": 110
        }
      ]
    },
    {
      "cell_type": "code",
      "source": [
        "# Configure the learning process, by compiling the model\n",
        "autoencoder.compile(optimizer='adam',\n",
        "                    metrics=['accuracy'],\n",
        "                    loss='mean_squared_error')\n",
        "\n",
        "AE_callback = tf.keras.callbacks.EarlyStopping(monitor='val_loss', patience=3)\n",
        "# Starts training\n",
        "# autoencoder: same training(x) and target data(y)\n",
        "# validation_data: tuple (x_val, y_val) on which\n",
        "# to evaluate the loss and any model metrics at the end of each epoch.\n",
        "\n",
        "# History.history attribute is a record of training loss values\n",
        "# and metrics values at successive epochs.\n",
        "history = autoencoder.fit(x=train_x_AE, y=train_x_AE,\n",
        "                          epochs=nb_epoch,\n",
        "                          batch_size=batch_size,\n",
        "                          shuffle=True,\n",
        "                          validation_data=(val_x_AE, val_x_AE),\n",
        "                          verbose=1,\n",
        "                          callbacks=[AE_callback]).history"
      ],
      "metadata": {
        "colab": {
          "base_uri": "https://localhost:8080/"
        },
        "id": "tHo5Qpwcs90k",
        "outputId": "0d474dfc-94ed-41df-8f52-08d45cb92db5"
      },
      "execution_count": null,
      "outputs": [
        {
          "output_type": "stream",
          "name": "stdout",
          "text": [
            "Epoch 1/50\n",
            "1330/1330 [==============================] - 4s 3ms/step - loss: 0.0620 - accuracy: 0.9771 - val_loss: 0.2674 - val_accuracy: 0.8273\n",
            "Epoch 2/50\n",
            "1330/1330 [==============================] - 3s 3ms/step - loss: 0.0616 - accuracy: 0.9770 - val_loss: 0.2487 - val_accuracy: 0.8259\n",
            "Epoch 3/50\n",
            "1330/1330 [==============================] - 3s 2ms/step - loss: 0.0613 - accuracy: 0.9767 - val_loss: 0.2597 - val_accuracy: 0.8288\n",
            "Epoch 4/50\n",
            "1330/1330 [==============================] - 3s 2ms/step - loss: 0.0610 - accuracy: 0.9767 - val_loss: 0.2643 - val_accuracy: 0.8307\n",
            "Epoch 5/50\n",
            "1330/1330 [==============================] - 3s 2ms/step - loss: 0.0606 - accuracy: 0.9769 - val_loss: 0.2568 - val_accuracy: 0.8281\n"
          ]
        }
      ]
    },
    {
      "cell_type": "code",
      "source": [
        "plt.figure(figsize=(14, 8))\n",
        "plt.plot(history['loss'], linewidth=2, label='Train')\n",
        "plt.plot(history['val_loss'], linewidth=2, label='Validation')\n",
        "plt.legend(loc='upper right')\n",
        "plt.title('Model loss')\n",
        "plt.ylabel('Loss')\n",
        "plt.xlabel('Epoch')\n",
        "#plt.ylim(ymin=0.70,ymax=1)\n",
        "plt.show()\n",
        "\n"
      ],
      "metadata": {
        "colab": {
          "base_uri": "https://localhost:8080/",
          "height": 513
        },
        "id": "7m00SFxhtDIc",
        "outputId": "20956be5-5903-4675-a78d-72bf0d2aea0b"
      },
      "execution_count": null,
      "outputs": [
        {
          "output_type": "display_data",
          "data": {
            "text/plain": [
              "<Figure size 1008x576 with 1 Axes>"
            ],
            "image/png": "[encoded data removed]"
          },
          "metadata": {
            "needs_background": "light"
          }
        }
      ]
    },
    {
      "cell_type": "code",
      "source": [
        "test_x_predictions = autoencoder.predict(test_x_AE)\n",
        "mse = np.mean(np.power(test_x_AE - test_x_predictions, 2), axis=1)\n",
        "error_df = pd.DataFrame({'Reconstruction_error': mse,\n",
        "                        'True_class': test_y_AE})\n",
        "error_df.describe()"
      ],
      "metadata": {
        "colab": {
          "base_uri": "https://localhost:8080/",
          "height": 318
        },
        "id": "VZHO97C_v45j",
        "outputId": "314d67d4-3624-495a-bd75-835ab85e18f4"
      },
      "execution_count": null,
      "outputs": [
        {
          "output_type": "stream",
          "name": "stdout",
          "text": [
            "2883/2883 [==============================] - 4s 1ms/step\n"
          ]
        },
        {
          "output_type": "execute_result",
          "data": {
            "text/plain": [
              "       Reconstruction_error    True_class\n",
              "count          92254.000000  92254.000000\n",
              "mean               0.061914      0.080669\n",
              "std                0.058290      0.272327\n",
              "min                0.011858      0.000000\n",
              "25%                0.033360      0.000000\n",
              "50%                0.047195      0.000000\n",
              "75%                0.067532      0.000000\n",
              "max                2.039871      1.000000"
            ],
            "text/html": [
              "\n",
              "  <div id=\"df-ca7ee5d0-ff55-472f-9628-2b79be941a50\">\n",
              "    <div class=\"colab-df-container\">\n",
              "      <div>\n",
              "<style scoped>\n",
              "    .dataframe tbody tr th:only-of-type {\n",
              "        vertical-align: middle;\n",
              "    }\n",
              "\n",
              "    .dataframe tbody tr th {\n",
              "        vertical-align: top;\n",
              "    }\n",
              "\n",
              "    .dataframe thead th {\n",
              "        text-align: right;\n",
              "    }\n",
              "</style>\n",
              "<table border=\"1\" class=\"dataframe\">\n",
              "  <thead>\n",
              "    <tr style=\"text-align: right;\">\n",
              "      <th></th>\n",
              "      <th>Reconstruction_error</th>\n",
              "      <th>True_class</th>\n",
              "    </tr>\n",
              "  </thead>\n",
              "  <tbody>\n",
              "    <tr>\n",
              "      <th>count</th>\n",
              "      <td>92254.000000</td>\n",
              "      <td>92254.000000</td>\n",
              "    </tr>\n",
              "    <tr>\n",
              "      <th>mean</th>\n",
              "      <td>0.061914</td>\n",
              "      <td>0.080669</td>\n",
              "    </tr>\n",
              "    <tr>\n",
              "      <th>std</th>\n",
              "      <td>0.058290</td>\n",
              "      <td>0.272327</td>\n",
              "    </tr>\n",
              "    <tr>\n",
              "      <th>min</th>\n",
              "      <td>0.011858</td>\n",
              "      <td>0.000000</td>\n",
              "    </tr>\n",
              "    <tr>\n",
              "      <th>25%</th>\n",
              "      <td>0.033360</td>\n",
              "      <td>0.000000</td>\n",
              "    </tr>\n",
              "    <tr>\n",
              "      <th>50%</th>\n",
              "      <td>0.047195</td>\n",
              "      <td>0.000000</td>\n",
              "    </tr>\n",
              "    <tr>\n",
              "      <th>75%</th>\n",
              "      <td>0.067532</td>\n",
              "      <td>0.000000</td>\n",
              "    </tr>\n",
              "    <tr>\n",
              "      <th>max</th>\n",
              "      <td>2.039871</td>\n",
              "      <td>1.000000</td>\n",
              "    </tr>\n",
              "  </tbody>\n",
              "</table>\n",
              "</div>\n",
              "      <button class=\"colab-df-convert\" onclick=\"convertToInteractive('df-ca7ee5d0-ff55-472f-9628-2b79be941a50')\"\n",
              "              title=\"Convert this dataframe to an interactive table.\"\n",
              "              style=\"display:none;\">\n",
              "        \n",
              "  <svg xmlns=\"http://www.w3.org/2000/svg\" height=\"24px\"viewBox=\"0 0 24 24\"\n",
              "       width=\"24px\">\n",
              "    <path d=\"M0 0h24v24H0V0z\" fill=\"none\"/>\n",
              "    <path d=\"M18.56 5.44l.94 2.06.94-2.06 2.06-.94-2.06-.94-.94-2.06-.94 2.06-2.06.94zm-11 1L8.5 8.5l.94-2.06 2.06-.94-2.06-.94L8.5 2.5l-.94 2.06-2.06.94zm10 10l.94 2.06.94-2.06 2.06-.94-2.06-.94-.94-2.06-.94 2.06-2.06.94z\"/><path d=\"M17.41 7.96l-1.37-1.37c-.4-.4-.92-.59-1.43-.59-.52 0-1.04.2-1.43.59L10.3 9.45l-7.72 7.72c-.78.78-.78 2.05 0 2.83L4 21.41c.39.39.9.59 1.41.59.51 0 1.02-.2 1.41-.59l7.78-7.78 2.81-2.81c.8-.78.8-2.07 0-2.86zM5.41 20L4 18.59l7.72-7.72 1.47 1.35L5.41 20z\"/>\n",
              "  </svg>\n",
              "      </button>\n",
              "      \n",
              "  <style>\n",
              "    .colab-df-container {\n",
              "      display:flex;\n",
              "      flex-wrap:wrap;\n",
              "      gap: 12px;\n",
              "    }\n",
              "\n",
              "    .colab-df-convert {\n",
              "      background-color: #E8F0FE;\n",
              "      border: none;\n",
              "      border-radius: 50%;\n",
              "      cursor: pointer;\n",
              "      display: none;\n",
              "      fill: #1967D2;\n",
              "      height: 32px;\n",
              "      padding: 0 0 0 0;\n",
              "      width: 32px;\n",
              "    }\n",
              "\n",
              "    .colab-df-convert:hover {\n",
              "      background-color: #E2EBFA;\n",
              "      box-shadow: 0px 1px 2px rgba(60, 64, 67, 0.3), 0px 1px 3px 1px rgba(60, 64, 67, 0.15);\n",
              "      fill: #174EA6;\n",
              "    }\n",
              "\n",
              "    [theme=dark] .colab-df-convert {\n",
              "      background-color: #3B4455;\n",
              "      fill: #D2E3FC;\n",
              "    }\n",
              "\n",
              "    [theme=dark] .colab-df-convert:hover {\n",
              "      background-color: #434B5C;\n",
              "      box-shadow: 0px 1px 3px 1px rgba(0, 0, 0, 0.15);\n",
              "      filter: drop-shadow(0px 1px 2px rgba(0, 0, 0, 0.3));\n",
              "      fill: #FFFFFF;\n",
              "    }\n",
              "  </style>\n",
              "\n",
              "      <script>\n",
              "        const buttonEl =\n",
              "          document.querySelector('#df-ca7ee5d0-ff55-472f-9628-2b79be941a50 button.colab-df-convert');\n",
              "        buttonEl.style.display =\n",
              "          google.colab.kernel.accessAllowed ? 'block' : 'none';\n",
              "\n",
              "        async function convertToInteractive(key) {\n",
              "          const element = document.querySelector('#df-ca7ee5d0-ff55-472f-9628-2b79be941a50');\n",
              "          const dataTable =\n",
              "            await google.colab.kernel.invokeFunction('convertToInteractive',\n",
              "                                                     [key], {});\n",
              "          if (!dataTable) return;\n",
              "\n",
              "          const docLinkHtml = 'Like what you see? Visit the ' +\n",
              "            '<a target=\"_blank\" href=https://colab.research.google.com/notebooks/data_table.ipynb>data table notebook</a>'\n",
              "            + ' to learn more about interactive tables.';\n",
              "          element.innerHTML = '';\n",
              "          dataTable['output_type'] = 'display_data';\n",
              "          await google.colab.output.renderOutput(dataTable, element);\n",
              "          const docLink = document.createElement('div');\n",
              "          docLink.innerHTML = docLinkHtml;\n",
              "          element.appendChild(docLink);\n",
              "        }\n",
              "      </script>\n",
              "    </div>\n",
              "  </div>\n",
              "  "
            ]
          },
          "metadata": {},
          "execution_count": 115
        }
      ]
    },
    {
      "cell_type": "code",
      "source": [
        "error_df"
      ],
      "metadata": {
        "colab": {
          "base_uri": "https://localhost:8080/",
          "height": 424
        },
        "id": "-AO4dngsyTuJ",
        "outputId": "784bac82-0dd8-401d-947f-b20e777fc6c7"
      },
      "execution_count": null,
      "outputs": [
        {
          "output_type": "execute_result",
          "data": {
            "text/plain": [
              "        Reconstruction_error  True_class\n",
              "49103               0.133219           0\n",
              "96031               0.088509           0\n",
              "300915              0.040528           0\n",
              "260145              0.041528           0\n",
              "99054               0.035969           0\n",
              "...                      ...         ...\n",
              "199828              0.076139           0\n",
              "137945              0.052299           0\n",
              "212407              0.350265           0\n",
              "259461              0.018614           0\n",
              "184316              0.052997           0\n",
              "\n",
              "[92254 rows x 2 columns]"
            ],
            "text/html": [
              "\n",
              "  <div id=\"df-c4ff83be-25e4-449f-af62-4bc2f2017752\">\n",
              "    <div class=\"colab-df-container\">\n",
              "      <div>\n",
              "<style scoped>\n",
              "    .dataframe tbody tr th:only-of-type {\n",
              "        vertical-align: middle;\n",
              "    }\n",
              "\n",
              "    .dataframe tbody tr th {\n",
              "        vertical-align: top;\n",
              "    }\n",
              "\n",
              "    .dataframe thead th {\n",
              "        text-align: right;\n",
              "    }\n",
              "</style>\n",
              "<table border=\"1\" class=\"dataframe\">\n",
              "  <thead>\n",
              "    <tr style=\"text-align: right;\">\n",
              "      <th></th>\n",
              "      <th>Reconstruction_error</th>\n",
              "      <th>True_class</th>\n",
              "    </tr>\n",
              "  </thead>\n",
              "  <tbody>\n",
              "    <tr>\n",
              "      <th>49103</th>\n",
              "      <td>0.133219</td>\n",
              "      <td>0</td>\n",
              "    </tr>\n",
              "    <tr>\n",
              "      <th>96031</th>\n",
              "      <td>0.088509</td>\n",
              "      <td>0</td>\n",
              "    </tr>\n",
              "    <tr>\n",
              "      <th>300915</th>\n",
              "      <td>0.040528</td>\n",
              "      <td>0</td>\n",
              "    </tr>\n",
              "    <tr>\n",
              "      <th>260145</th>\n",
              "      <td>0.041528</td>\n",
              "      <td>0</td>\n",
              "    </tr>\n",
              "    <tr>\n",
              "      <th>99054</th>\n",
              "      <td>0.035969</td>\n",
              "      <td>0</td>\n",
              "    </tr>\n",
              "    <tr>\n",
              "      <th>...</th>\n",
              "      <td>...</td>\n",
              "      <td>...</td>\n",
              "    </tr>\n",
              "    <tr>\n",
              "      <th>199828</th>\n",
              "      <td>0.076139</td>\n",
              "      <td>0</td>\n",
              "    </tr>\n",
              "    <tr>\n",
              "      <th>137945</th>\n",
              "      <td>0.052299</td>\n",
              "      <td>0</td>\n",
              "    </tr>\n",
              "    <tr>\n",
              "      <th>212407</th>\n",
              "      <td>0.350265</td>\n",
              "      <td>0</td>\n",
              "    </tr>\n",
              "    <tr>\n",
              "      <th>259461</th>\n",
              "      <td>0.018614</td>\n",
              "      <td>0</td>\n",
              "    </tr>\n",
              "    <tr>\n",
              "      <th>184316</th>\n",
              "      <td>0.052997</td>\n",
              "      <td>0</td>\n",
              "    </tr>\n",
              "  </tbody>\n",
              "</table>\n",
              "<p>92254 rows × 2 columns</p>\n",
              "</div>\n",
              "      <button class=\"colab-df-convert\" onclick=\"convertToInteractive('df-c4ff83be-25e4-449f-af62-4bc2f2017752')\"\n",
              "              title=\"Convert this dataframe to an interactive table.\"\n",
              "              style=\"display:none;\">\n",
              "        \n",
              "  <svg xmlns=\"http://www.w3.org/2000/svg\" height=\"24px\"viewBox=\"0 0 24 24\"\n",
              "       width=\"24px\">\n",
              "    <path d=\"M0 0h24v24H0V0z\" fill=\"none\"/>\n",
              "    <path d=\"M18.56 5.44l.94 2.06.94-2.06 2.06-.94-2.06-.94-.94-2.06-.94 2.06-2.06.94zm-11 1L8.5 8.5l.94-2.06 2.06-.94-2.06-.94L8.5 2.5l-.94 2.06-2.06.94zm10 10l.94 2.06.94-2.06 2.06-.94-2.06-.94-.94-2.06-.94 2.06-2.06.94z\"/><path d=\"M17.41 7.96l-1.37-1.37c-.4-.4-.92-.59-1.43-.59-.52 0-1.04.2-1.43.59L10.3 9.45l-7.72 7.72c-.78.78-.78 2.05 0 2.83L4 21.41c.39.39.9.59 1.41.59.51 0 1.02-.2 1.41-.59l7.78-7.78 2.81-2.81c.8-.78.8-2.07 0-2.86zM5.41 20L4 18.59l7.72-7.72 1.47 1.35L5.41 20z\"/>\n",
              "  </svg>\n",
              "      </button>\n",
              "      \n",
              "  <style>\n",
              "    .colab-df-container {\n",
              "      display:flex;\n",
              "      flex-wrap:wrap;\n",
              "      gap: 12px;\n",
              "    }\n",
              "\n",
              "    .colab-df-convert {\n",
              "      background-color: #E8F0FE;\n",
              "      border: none;\n",
              "      border-radius: 50%;\n",
              "      cursor: pointer;\n",
              "      display: none;\n",
              "      fill: #1967D2;\n",
              "      height: 32px;\n",
              "      padding: 0 0 0 0;\n",
              "      width: 32px;\n",
              "    }\n",
              "\n",
              "    .colab-df-convert:hover {\n",
              "      background-color: #E2EBFA;\n",
              "      box-shadow: 0px 1px 2px rgba(60, 64, 67, 0.3), 0px 1px 3px 1px rgba(60, 64, 67, 0.15);\n",
              "      fill: #174EA6;\n",
              "    }\n",
              "\n",
              "    [theme=dark] .colab-df-convert {\n",
              "      background-color: #3B4455;\n",
              "      fill: #D2E3FC;\n",
              "    }\n",
              "\n",
              "    [theme=dark] .colab-df-convert:hover {\n",
              "      background-color: #434B5C;\n",
              "      box-shadow: 0px 1px 3px 1px rgba(0, 0, 0, 0.15);\n",
              "      filter: drop-shadow(0px 1px 2px rgba(0, 0, 0, 0.3));\n",
              "      fill: #FFFFFF;\n",
              "    }\n",
              "  </style>\n",
              "\n",
              "      <script>\n",
              "        const buttonEl =\n",
              "          document.querySelector('#df-c4ff83be-25e4-449f-af62-4bc2f2017752 button.colab-df-convert');\n",
              "        buttonEl.style.display =\n",
              "          google.colab.kernel.accessAllowed ? 'block' : 'none';\n",
              "\n",
              "        async function convertToInteractive(key) {\n",
              "          const element = document.querySelector('#df-c4ff83be-25e4-449f-af62-4bc2f2017752');\n",
              "          const dataTable =\n",
              "            await google.colab.kernel.invokeFunction('convertToInteractive',\n",
              "                                                     [key], {});\n",
              "          if (!dataTable) return;\n",
              "\n",
              "          const docLinkHtml = 'Like what you see? Visit the ' +\n",
              "            '<a target=\"_blank\" href=https://colab.research.google.com/notebooks/data_table.ipynb>data table notebook</a>'\n",
              "            + ' to learn more about interactive tables.';\n",
              "          element.innerHTML = '';\n",
              "          dataTable['output_type'] = 'display_data';\n",
              "          await google.colab.output.renderOutput(dataTable, element);\n",
              "          const docLink = document.createElement('div');\n",
              "          docLink.innerHTML = docLinkHtml;\n",
              "          element.appendChild(docLink);\n",
              "        }\n",
              "      </script>\n",
              "    </div>\n",
              "  </div>\n",
              "  "
            ]
          },
          "metadata": {},
          "execution_count": 123
        }
      ]
    },
    {
      "cell_type": "code",
      "source": [
        "precision_rt, recall_rt, threshold_rt = precision_recall_curve(error_df.True_class,\n",
        "                                                               error_df.Reconstruction_error)\n",
        "\n",
        "pr_auc = auc(recall_rt, precision_rt,)\n"
      ],
      "metadata": {
        "id": "EquQMoktynOg"
      },
      "execution_count": null,
      "outputs": []
    },
    {
      "cell_type": "code",
      "source": [
        "threshold_fixed = 0.15\n",
        "groups = error_df.groupby('True_class')\n",
        "fig, ax = plt.subplots(figsize=(14, 8))\n",
        "\n",
        "for name, group in groups:\n",
        "    ax.plot(group.index, group.Reconstruction_error, marker='o', ms=3.5, linestyle='',\n",
        "            label= \"Fraud\" if name == 1 else \"Normal\")\n",
        "ax.hlines(threshold_fixed, ax.get_xlim()[0], ax.get_xlim()[1],\n",
        "          colors=\"r\", zorder=100, label='Threshold')\n",
        "ax.legend()\n",
        "plt.title(\"Reconstruction error for different classes\")\n",
        "plt.ylabel(\"Reconstruction error\")\n",
        "plt.xlabel(\"Data point index\")\n",
        "plt.show();\n",
        "\n"
      ],
      "metadata": {
        "colab": {
          "base_uri": "https://localhost:8080/",
          "height": 513
        },
        "id": "rYW_oBfQyqcl",
        "outputId": "b6bcf790-217e-4fd5-82af-eee429b0430f"
      },
      "execution_count": null,
      "outputs": [
        {
          "output_type": "display_data",
          "data": {
            "text/plain": [
              "<Figure size 1008x576 with 1 Axes>"
            ],
            "image/png": "[encoded data removed]"
          },
          "metadata": {
            "needs_background": "light"
          }
        }
      ]
    },
    {
      "cell_type": "code",
      "source": [
        "pred_y = [1 if e > threshold_fixed else 0 for e in error_df.Reconstruction_error.values]\n",
        "cm = confusion_matrix(error_df.True_class, pred_y)\n",
        "\n",
        "disp = ConfusionMatrixDisplay(confusion_matrix=cm)\n",
        "\n",
        "disp.plot(cmap=plt.cm.Blues)\n",
        "plt.show()"
      ],
      "metadata": {
        "colab": {
          "base_uri": "https://localhost:8080/",
          "height": 280
        },
        "id": "NKq3YJRzxRM9",
        "outputId": "ee61700b-8404-4699-bfc0-2983b669431a"
      },
      "execution_count": null,
      "outputs": [
        {
          "output_type": "display_data",
          "data": {
            "text/plain": [
              "<Figure size 432x288 with 2 Axes>"
            ],
            "image/png": "[encoded data removed]"
          },
          "metadata": {
            "needs_background": "light"
          }
        }
      ]
    },
    {
      "cell_type": "code",
      "source": [
        "print(classification_report(error_df.True_class, pred_y))"
      ],
      "metadata": {
        "colab": {
          "base_uri": "https://localhost:8080/"
        },
        "id": "V81mnQ2RxaxR",
        "outputId": "246b4493-6748-45cd-d94e-93bad92af152"
      },
      "execution_count": null,
      "outputs": [
        {
          "output_type": "stream",
          "name": "stdout",
          "text": [
            "              precision    recall  f1-score   support\n",
            "\n",
            "           0       0.92      0.96      0.94     84812\n",
            "           1       0.12      0.06      0.08      7442\n",
            "\n",
            "    accuracy                           0.88     92254\n",
            "   macro avg       0.52      0.51      0.51     92254\n",
            "weighted avg       0.86      0.88      0.87     92254\n",
            "\n"
          ]
        }
      ]
    },
    {
      "cell_type": "code",
      "source": [
        "nb_epoch = 50\n",
        "batch_size = 128\n",
        "n_inputs = Xsm_train_fraud.shape[1]\n",
        "encoding_dim = 18\n",
        "hidden_dim1 = 10 #int(encoding_dim / 2) #i.e. 7\n",
        "hidden_dim2 = 6\n",
        "learning_rate = 1e-7"
      ],
      "metadata": {
        "id": "aSJiiKuABwtt"
      },
      "execution_count": null,
      "outputs": []
    },
    {
      "cell_type": "code",
      "source": [
        "# This returns a tensor\n",
        "input_layer = Input(shape=(n_inputs, ))\n",
        "\n",
        "# a layer instance is callable on a tensor, and returns a tensor\n",
        "# Dense implements the operation: output = activation(dot(input, kernel) + bias), where\n",
        "# activation is the element-wise activation function passed as the activation argument,\n",
        "# kernel is a weights matrix created by the layer, and\n",
        "# bias is a bias vector created by the layer (only applicable if use_bias is True).\n",
        "\n",
        "# activity_regularizer: Regularizer function applied to the output of the layer\n",
        "encoder = Dense(encoding_dim, activation=\"tanh\",\n",
        "                activity_regularizer=regularizers.l1(learning_rate))(input_layer)\n",
        "encoder = Dense(hidden_dim1, activation=\"elu\")(encoder)\n",
        "encoder = Dense(hidden_dim2, activation=\"tanh\")(encoder)\n",
        "mlp = Dense(hidden_dim2, activation='relu')(encoder)\n",
        "mlp = Dense(2, activation='softmax')(mlp)\n",
        "\n",
        "\n",
        "\n",
        "# This creates a model that includes\n",
        "# the Input layer and four Dense layers\n",
        "mlp_autoencoder = Model(inputs=input_layer, outputs=mlp)"
      ],
      "metadata": {
        "id": "0v-FpT5IAmM5"
      },
      "execution_count": null,
      "outputs": []
    },
    {
      "cell_type": "code",
      "source": [
        "mlp_autoencoder.compile(Adam(lr=0.001), loss='sparse_categorical_crossentropy', metrics=['accuracy'])\n",
        "mlp_callback = tf.keras.callbacks.EarlyStopping(monitor='val_loss', patience=3)\n",
        "mlp_autoencoder.fit(Xsm_train_fraud, ysm_train_fraud, validation_data=(X_val_fraud,y_val_fraud)\n",
        "              , batch_size=25, epochs=20, verbose=2, callbacks = [mlp_callback])"
      ],
      "metadata": {
        "colab": {
          "base_uri": "https://localhost:8080/"
        },
        "id": "eDxnnZCyCSOE",
        "outputId": "b1846bb5-a2e3-4f2b-c310-f0a46baeb5ce"
      },
      "execution_count": null,
      "outputs": [
        {
          "output_type": "stream",
          "name": "stderr",
          "text": [
            "/usr/local/lib/python3.8/dist-packages/keras/optimizers/optimizer_v2/adam.py:110: UserWarning: The `lr` argument is deprecated, use `learning_rate` instead.\n",
            "  super(Adam, self).__init__(name, **kwargs)\n"
          ]
        },
        {
          "output_type": "stream",
          "name": "stdout",
          "text": [
            "Epoch 1/20\n",
            "14246/14246 - 28s - loss: 0.6533 - accuracy: 0.6136 - val_loss: 0.7623 - val_accuracy: 0.4102 - 28s/epoch - 2ms/step\n",
            "Epoch 2/20\n",
            "14246/14246 - 29s - loss: 0.6387 - accuracy: 0.6335 - val_loss: 0.7762 - val_accuracy: 0.4124 - 29s/epoch - 2ms/step\n",
            "Epoch 3/20\n",
            "14246/14246 - 27s - loss: 0.6252 - accuracy: 0.6493 - val_loss: 0.7790 - val_accuracy: 0.4664 - 27s/epoch - 2ms/step\n",
            "Epoch 4/20\n",
            "14246/14246 - 27s - loss: 0.6036 - accuracy: 0.6690 - val_loss: 0.7406 - val_accuracy: 0.5171 - 27s/epoch - 2ms/step\n",
            "Epoch 5/20\n",
            "14246/14246 - 28s - loss: 0.5769 - accuracy: 0.6826 - val_loss: 0.9323 - val_accuracy: 0.5262 - 28s/epoch - 2ms/step\n",
            "Epoch 6/20\n",
            "14246/14246 - 26s - loss: 0.5532 - accuracy: 0.6947 - val_loss: 0.8898 - val_accuracy: 0.5848 - 26s/epoch - 2ms/step\n",
            "Epoch 7/20\n",
            "14246/14246 - 27s - loss: 0.5387 - accuracy: 0.7016 - val_loss: 0.7470 - val_accuracy: 0.6351 - 27s/epoch - 2ms/step\n"
          ]
        },
        {
          "output_type": "execute_result",
          "data": {
            "text/plain": [
              "<keras.callbacks.History at 0x7f0a58480fa0>"
            ]
          },
          "metadata": {},
          "execution_count": 112
        }
      ]
    },
    {
      "cell_type": "code",
      "source": [
        "yhat = mlp_autoencoder.predict(X_test_fraud)"
      ],
      "metadata": {
        "colab": {
          "base_uri": "https://localhost:8080/"
        },
        "id": "acwsd7dtd4kV",
        "outputId": "52de540e-2845-4c6c-96c8-5fa02d81f14c"
      },
      "execution_count": null,
      "outputs": [
        {
          "output_type": "stream",
          "name": "stdout",
          "text": [
            "2883/2883 [==============================] - 5s 2ms/step\n"
          ]
        }
      ]
    },
    {
      "cell_type": "code",
      "source": [
        "y_pred = threshod_evaluation(yhat, 0.4)\n",
        "cm = confusion_matrix(y_test_fraud, y_pred)\n",
        "\n",
        "disp = ConfusionMatrixDisplay(confusion_matrix=cm)\n",
        "\n",
        "disp.plot(cmap=plt.cm.Blues)\n",
        "plt.show()"
      ],
      "metadata": {
        "colab": {
          "base_uri": "https://localhost:8080/",
          "height": 279
        },
        "id": "qmS4BTHUDMWx",
        "outputId": "5934088f-6f08-4bc3-c964-d11285b6787f"
      },
      "execution_count": null,
      "outputs": [
        {
          "output_type": "display_data",
          "data": {
            "text/plain": [
              "<Figure size 432x288 with 2 Axes>"
            ],
            "image/png": "[encoded data removed]"
          },
          "metadata": {
            "needs_background": "light"
          }
        }
      ]
    },
    {
      "cell_type": "code",
      "source": [
        "  print(classification_report(y_test_fraud, y_pred))"
      ],
      "metadata": {
        "colab": {
          "base_uri": "https://localhost:8080/"
        },
        "id": "QLzyOW08DfBM",
        "outputId": "6b1d5378-5ab3-4799-ac07-81330922f835"
      },
      "execution_count": null,
      "outputs": [
        {
          "output_type": "stream",
          "name": "stdout",
          "text": [
            "              precision    recall  f1-score   support\n",
            "\n",
            "           0       0.92      0.78      0.85     84787\n",
            "           1       0.09      0.24      0.13      7467\n",
            "\n",
            "    accuracy                           0.74     92254\n",
            "   macro avg       0.50      0.51      0.49     92254\n",
            "weighted avg       0.85      0.74      0.79     92254\n",
            "\n"
          ]
        }
      ]
    },
    {
      "cell_type": "code",
      "source": [
        "import numpy as np\n",
        "import pandas as pd\n",
        "import os\n",
        "import matplotlib.pyplot as plt\n",
        "\n",
        "import torch\n",
        "from torch import nn, optim\n",
        "import torch.nn.functional as F\n",
        "from torchvision import datasets, transforms\n",
        "from torchvision.utils import save_image\n",
        "from torch.utils.data import Dataset, DataLoader\n",
        "from torch.autograd import Variable\n",
        "\n",
        "from PIL import Image\n",
        "\n",
        "from tqdm import tqdm_notebook as tqdm"
      ],
      "metadata": {
        "id": "aNbN75fCG8dm"
      },
      "execution_count": null,
      "outputs": []
    },
    {
      "cell_type": "code",
      "source": [
        "class Sampling(tf.keras.layers.Layer):\n",
        "    def call(self, inputs):\n",
        "        z_mean, z_log_var = inputs\n",
        "        batch = tf.shape(z_mean)[0]\n",
        "        dim = tf.shape(z_mean)[1]\n",
        "        epsilon = tf.keras.backend.random_normal(shape=(batch, dim))\n",
        "        return epsilon * tf.exp(z_log_var * 0.5) + z_mean\n",
        "\n"
      ],
      "metadata": {
        "id": "zwOQc7j2JGnt"
      },
      "execution_count": null,
      "outputs": []
    },
    {
      "cell_type": "code",
      "source": [
        "def build_vae(num_pixels, num_latent_vars=3):\n",
        "\n",
        "    # Encoder\n",
        "    encoder_inputs = tf.keras.Input(shape=(num_pixels,))\n",
        "    x = tf.keras.layers.Dense(512, activation='relu')(encoder_inputs)\n",
        "    x = tf.keras.layers.Dense(128, activation='relu')(x)\n",
        "    x = tf.keras.layers.Dense(32, activation='relu')(x)\n",
        "    z_mean = tf.keras.layers.Dense(num_latent_vars)(x)\n",
        "    z_log_var = tf.keras.layers.Dense(num_latent_vars)(z_mean)\n",
        "    z = Sampling()([z_mean, z_log_var])\n",
        "\n",
        "    encoder = tf.keras.Model(inputs=encoder_inputs, outputs=z)\n",
        "\n",
        "    # Decoder\n",
        "    decoder_inputs = tf.keras.Input(shape=(num_latent_vars,))\n",
        "    x = tf.keras.layers.Dense(32, activation='relu')(decoder_inputs)\n",
        "    x = tf.keras.layers.Dense(128, activation='relu')(x)\n",
        "    x = tf.keras.layers.Dense(512, activation='relu')(x)\n",
        "    reconstruction = tf.keras.layers.Dense(num_pixels, activation='linear')(x)\n",
        "\n",
        "    decoder = tf.keras.Model(inputs=decoder_inputs, outputs=reconstruction)\n",
        "\n",
        "    # Full model\n",
        "    model_inputs = encoder.input\n",
        "    model_outputs = decoder(encoder.output)\n",
        "\n",
        "    model = tf.keras.Model(inputs=model_inputs, outputs=model_outputs)\n",
        "\n",
        "    # Compile model for training\n",
        "    model.compile(\n",
        "        optimizer='adam',\n",
        "        loss='mse'\n",
        "    )\n",
        "\n",
        "    # Return all three models\n",
        "    return encoder, decoder, model"
      ],
      "metadata": {
        "id": "LYZxQwORKJSG"
      },
      "execution_count": null,
      "outputs": []
    },
    {
      "cell_type": "code",
      "source": [
        "fraud_encoder, fraud_decoder, fraud_model = build_vae(num_pixels=54, num_latent_vars=3)"
      ],
      "metadata": {
        "id": "vp_-In_ZKMvk"
      },
      "execution_count": null,
      "outputs": []
    },
    {
      "cell_type": "code",
      "source": [
        "history = fraud_model.fit(\n",
        "    train_x_AE,\n",
        "    train_x_AE,\n",
        "    validation_data = (val_x_AE, val_x_AE),\n",
        "    batch_size=32,\n",
        "    epochs=100,\n",
        "    verbose = 2,\n",
        "    callbacks=[\n",
        "        tf.keras.callbacks.EarlyStopping(\n",
        "            monitor='val_loss',\n",
        "            patience=3,\n",
        "            restore_best_weights=True\n",
        "        )\n",
        "    ]\n",
        ")"
      ],
      "metadata": {
        "colab": {
          "base_uri": "https://localhost:8080/"
        },
        "id": "C9c7KuVzK5TA",
        "outputId": "00088a6b-c987-485e-e563-0955346f5002"
      },
      "execution_count": null,
      "outputs": [
        {
          "output_type": "stream",
          "name": "stdout",
          "text": [
            "Epoch 1/100\n",
            "5318/5318 - 29s - loss: 0.5085 - val_loss: 0.1892 - 29s/epoch - 5ms/step\n",
            "Epoch 2/100\n",
            "5318/5318 - 27s - loss: 0.0754 - val_loss: 0.1895 - 27s/epoch - 5ms/step\n",
            "Epoch 3/100\n",
            "5318/5318 - 28s - loss: 0.0644 - val_loss: 0.1979 - 28s/epoch - 5ms/step\n",
            "Epoch 4/100\n",
            "5318/5318 - 28s - loss: 0.0588 - val_loss: 0.2146 - 28s/epoch - 5ms/step\n"
          ]
        }
      ]
    },
    {
      "cell_type": "code",
      "source": [
        "plt.figure(figsize=(14, 8))\n",
        "plt.plot(history.history['loss'], linewidth=2, label='Train')\n",
        "plt.plot(history.history['val_loss'], linewidth=2, label='Validation')\n",
        "plt.legend(loc='upper right')\n",
        "plt.title('Model loss')\n",
        "plt.ylabel('Loss')\n",
        "plt.xlabel('Epoch')\n",
        "#plt.ylim(ymin=0.70,ymax=1)\n",
        "plt.show()"
      ],
      "metadata": {
        "colab": {
          "base_uri": "https://localhost:8080/",
          "height": 513
        },
        "id": "BSfzMiIFLUmN",
        "outputId": "49607aa8-277c-41de-ea2a-b85d0f7691cd"
      },
      "execution_count": null,
      "outputs": [
        {
          "output_type": "display_data",
          "data": {
            "text/plain": [
              "<Figure size 1008x576 with 1 Axes>"
            ],
            "image/png": "[encoded data removed]"
          },
          "metadata": {
            "needs_background": "light"
          }
        }
      ]
    },
    {
      "cell_type": "code",
      "source": [
        "test_x_predictions = fraud_model.predict(test_x_AE)\n",
        "mse = np.mean(np.power(test_x_AE - test_x_predictions, 2), axis=1)\n",
        "error_df_VAE = pd.DataFrame({'Reconstruction_error': mse,\n",
        "                        'True_class': test_y_AE})\n",
        "error_df_VAE.describe()"
      ],
      "metadata": {
        "colab": {
          "base_uri": "https://localhost:8080/",
          "height": 318
        },
        "id": "_5rkFv3POc8h",
        "outputId": "1f445787-447b-4442-eb43-9b188cf475c6"
      },
      "execution_count": null,
      "outputs": [
        {
          "output_type": "stream",
          "name": "stdout",
          "text": [
            "2883/2883 [==============================] - 8s 3ms/step\n"
          ]
        },
        {
          "output_type": "execute_result",
          "data": {
            "text/plain": [
              "       Reconstruction_error    True_class\n",
              "count          92254.000000  92254.000000\n",
              "mean               0.085080      0.080669\n",
              "std                0.073374      0.272327\n",
              "min                0.014091      0.000000\n",
              "25%                0.041865      0.000000\n",
              "50%                0.061253      0.000000\n",
              "75%                0.093186      0.000000\n",
              "max                0.811367      1.000000"
            ],
            "text/html": [
              "\n",
              "  <div id=\"df-85b127c2-8970-4191-b823-3e141cd385f8\">\n",
              "    <div class=\"colab-df-container\">\n",
              "      <div>\n",
              "<style scoped>\n",
              "    .dataframe tbody tr th:only-of-type {\n",
              "        vertical-align: middle;\n",
              "    }\n",
              "\n",
              "    .dataframe tbody tr th {\n",
              "        vertical-align: top;\n",
              "    }\n",
              "\n",
              "    .dataframe thead th {\n",
              "        text-align: right;\n",
              "    }\n",
              "</style>\n",
              "<table border=\"1\" class=\"dataframe\">\n",
              "  <thead>\n",
              "    <tr style=\"text-align: right;\">\n",
              "      <th></th>\n",
              "      <th>Reconstruction_error</th>\n",
              "      <th>True_class</th>\n",
              "    </tr>\n",
              "  </thead>\n",
              "  <tbody>\n",
              "    <tr>\n",
              "      <th>count</th>\n",
              "      <td>92254.000000</td>\n",
              "      <td>92254.000000</td>\n",
              "    </tr>\n",
              "    <tr>\n",
              "      <th>mean</th>\n",
              "      <td>0.085080</td>\n",
              "      <td>0.080669</td>\n",
              "    </tr>\n",
              "    <tr>\n",
              "      <th>std</th>\n",
              "      <td>0.073374</td>\n",
              "      <td>0.272327</td>\n",
              "    </tr>\n",
              "    <tr>\n",
              "      <th>min</th>\n",
              "      <td>0.014091</td>\n",
              "      <td>0.000000</td>\n",
              "    </tr>\n",
              "    <tr>\n",
              "      <th>25%</th>\n",
              "      <td>0.041865</td>\n",
              "      <td>0.000000</td>\n",
              "    </tr>\n",
              "    <tr>\n",
              "      <th>50%</th>\n",
              "      <td>0.061253</td>\n",
              "      <td>0.000000</td>\n",
              "    </tr>\n",
              "    <tr>\n",
              "      <th>75%</th>\n",
              "      <td>0.093186</td>\n",
              "      <td>0.000000</td>\n",
              "    </tr>\n",
              "    <tr>\n",
              "      <th>max</th>\n",
              "      <td>0.811367</td>\n",
              "      <td>1.000000</td>\n",
              "    </tr>\n",
              "  </tbody>\n",
              "</table>\n",
              "</div>\n",
              "      <button class=\"colab-df-convert\" onclick=\"convertToInteractive('df-85b127c2-8970-4191-b823-3e141cd385f8')\"\n",
              "              title=\"Convert this dataframe to an interactive table.\"\n",
              "              style=\"display:none;\">\n",
              "        \n",
              "  <svg xmlns=\"http://www.w3.org/2000/svg\" height=\"24px\"viewBox=\"0 0 24 24\"\n",
              "       width=\"24px\">\n",
              "    <path d=\"M0 0h24v24H0V0z\" fill=\"none\"/>\n",
              "    <path d=\"M18.56 5.44l.94 2.06.94-2.06 2.06-.94-2.06-.94-.94-2.06-.94 2.06-2.06.94zm-11 1L8.5 8.5l.94-2.06 2.06-.94-2.06-.94L8.5 2.5l-.94 2.06-2.06.94zm10 10l.94 2.06.94-2.06 2.06-.94-2.06-.94-.94-2.06-.94 2.06-2.06.94z\"/><path d=\"M17.41 7.96l-1.37-1.37c-.4-.4-.92-.59-1.43-.59-.52 0-1.04.2-1.43.59L10.3 9.45l-7.72 7.72c-.78.78-.78 2.05 0 2.83L4 21.41c.39.39.9.59 1.41.59.51 0 1.02-.2 1.41-.59l7.78-7.78 2.81-2.81c.8-.78.8-2.07 0-2.86zM5.41 20L4 18.59l7.72-7.72 1.47 1.35L5.41 20z\"/>\n",
              "  </svg>\n",
              "      </button>\n",
              "      \n",
              "  <style>\n",
              "    .colab-df-container {\n",
              "      display:flex;\n",
              "      flex-wrap:wrap;\n",
              "      gap: 12px;\n",
              "    }\n",
              "\n",
              "    .colab-df-convert {\n",
              "      background-color: #E8F0FE;\n",
              "      border: none;\n",
              "      border-radius: 50%;\n",
              "      cursor: pointer;\n",
              "      display: none;\n",
              "      fill: #1967D2;\n",
              "      height: 32px;\n",
              "      padding: 0 0 0 0;\n",
              "      width: 32px;\n",
              "    }\n",
              "\n",
              "    .colab-df-convert:hover {\n",
              "      background-color: #E2EBFA;\n",
              "      box-shadow: 0px 1px 2px rgba(60, 64, 67, 0.3), 0px 1px 3px 1px rgba(60, 64, 67, 0.15);\n",
              "      fill: #174EA6;\n",
              "    }\n",
              "\n",
              "    [theme=dark] .colab-df-convert {\n",
              "      background-color: #3B4455;\n",
              "      fill: #D2E3FC;\n",
              "    }\n",
              "\n",
              "    [theme=dark] .colab-df-convert:hover {\n",
              "      background-color: #434B5C;\n",
              "      box-shadow: 0px 1px 3px 1px rgba(0, 0, 0, 0.15);\n",
              "      filter: drop-shadow(0px 1px 2px rgba(0, 0, 0, 0.3));\n",
              "      fill: #FFFFFF;\n",
              "    }\n",
              "  </style>\n",
              "\n",
              "      <script>\n",
              "        const buttonEl =\n",
              "          document.querySelector('#df-85b127c2-8970-4191-b823-3e141cd385f8 button.colab-df-convert');\n",
              "        buttonEl.style.display =\n",
              "          google.colab.kernel.accessAllowed ? 'block' : 'none';\n",
              "\n",
              "        async function convertToInteractive(key) {\n",
              "          const element = document.querySelector('#df-85b127c2-8970-4191-b823-3e141cd385f8');\n",
              "          const dataTable =\n",
              "            await google.colab.kernel.invokeFunction('convertToInteractive',\n",
              "                                                     [key], {});\n",
              "          if (!dataTable) return;\n",
              "\n",
              "          const docLinkHtml = 'Like what you see? Visit the ' +\n",
              "            '<a target=\"_blank\" href=https://colab.research.google.com/notebooks/data_table.ipynb>data table notebook</a>'\n",
              "            + ' to learn more about interactive tables.';\n",
              "          element.innerHTML = '';\n",
              "          dataTable['output_type'] = 'display_data';\n",
              "          await google.colab.output.renderOutput(dataTable, element);\n",
              "          const docLink = document.createElement('div');\n",
              "          docLink.innerHTML = docLinkHtml;\n",
              "          element.appendChild(docLink);\n",
              "        }\n",
              "      </script>\n",
              "    </div>\n",
              "  </div>\n",
              "  "
            ]
          },
          "metadata": {},
          "execution_count": 55
        }
      ]
    },
    {
      "cell_type": "code",
      "source": [
        "precision_rt, recall_rt, threshold_rt = precision_recall_curve(error_df_VAE.True_class,\n",
        "                                                               error_df_VAE.Reconstruction_error)\n",
        "\n",
        "pr_auc = auc(recall_rt, precision_rt,)\n"
      ],
      "metadata": {
        "id": "jc97R6REO8ib"
      },
      "execution_count": null,
      "outputs": []
    },
    {
      "cell_type": "code",
      "source": [
        "threshold_fixed = 0.12\n",
        "groups = error_df_VAE.groupby('True_class')\n",
        "fig, ax = plt.subplots(figsize=(14, 8))\n",
        "\n",
        "for name, group in groups:\n",
        "    ax.plot(group.index, group.Reconstruction_error, marker='o', ms=3.5, linestyle='',\n",
        "            label= \"Fraud\" if name == 1 else \"Normal\")\n",
        "ax.hlines(threshold_fixed, ax.get_xlim()[0], ax.get_xlim()[1],\n",
        "          colors=\"r\", zorder=100, label='Threshold')\n",
        "ax.legend()\n",
        "plt.title(\"Reconstruction error for different classes\")\n",
        "plt.ylabel(\"Reconstruction error\")\n",
        "plt.xlabel(\"Data point index\")\n",
        "plt.show();"
      ],
      "metadata": {
        "colab": {
          "base_uri": "https://localhost:8080/",
          "height": 513
        },
        "id": "LslJFwrpPENF",
        "outputId": "996a3e0e-6e77-4211-9b56-943871d619b6"
      },
      "execution_count": null,
      "outputs": [
        {
          "output_type": "display_data",
          "data": {
            "text/plain": [
              "<Figure size 1008x576 with 1 Axes>"
            ],
            "image/png": "[encoded data removed]"
          },
          "metadata": {
            "needs_background": "light"
          }
        }
      ]
    },
    {
      "cell_type": "code",
      "source": [
        "pred_y = [1 if e > threshold_fixed else 0 for e in error_df_VAE.Reconstruction_error.values]\n",
        "cm = confusion_matrix(error_df_VAE.True_class, pred_y)\n",
        "\n",
        "disp = ConfusionMatrixDisplay(confusion_matrix=cm)\n",
        "\n",
        "disp.plot(cmap=plt.cm.Blues)\n",
        "plt.show()"
      ],
      "metadata": {
        "colab": {
          "base_uri": "https://localhost:8080/",
          "height": 279
        },
        "id": "8F1Pwt-LPQMc",
        "outputId": "4ec45588-1c38-4116-c37e-98114b67d41f"
      },
      "execution_count": null,
      "outputs": [
        {
          "output_type": "display_data",
          "data": {
            "text/plain": [
              "<Figure size 432x288 with 2 Axes>"
            ],
            "image/png": "[encoded data removed]"
          },
          "metadata": {
            "needs_background": "light"
          }
        }
      ]
    },
    {
      "cell_type": "code",
      "source": [
        "print(classification_report(error_df_VAE.True_class, pred_y))"
      ],
      "metadata": {
        "colab": {
          "base_uri": "https://localhost:8080/"
        },
        "id": "BdNc8az9Pf8E",
        "outputId": "beabb45b-3cf8-4d5d-cc63-39d6f4a2a538"
      },
      "execution_count": null,
      "outputs": [
        {
          "output_type": "stream",
          "name": "stdout",
          "text": [
            "              precision    recall  f1-score   support\n",
            "\n",
            "           0       0.92      0.85      0.88     84812\n",
            "           1       0.08      0.16      0.11      7442\n",
            "\n",
            "    accuracy                           0.79     92254\n",
            "   macro avg       0.50      0.50      0.50     92254\n",
            "weighted avg       0.85      0.79      0.82     92254\n",
            "\n"
          ]
        }
      ]
    },
    {
      "cell_type": "code",
      "source": [
        "num_pixels = 54\n",
        "num_latent_vars = 3\n",
        "# Encoder\n",
        "encoder_inputs = tf.keras.Input(shape=(num_pixels,))\n",
        "x = tf.keras.layers.Dense(512, activation='relu')(encoder_inputs)\n",
        "x = tf.keras.layers.Dense(128, activation='relu')(x)\n",
        "x = tf.keras.layers.Dense(32, activation='relu')(x)\n",
        "z_mean = tf.keras.layers.Dense(num_latent_vars)(x)\n",
        "z_log_var = tf.keras.layers.Dense(num_latent_vars)(z_mean)\n",
        "z = Sampling()([z_mean, z_log_var])\n",
        "\n",
        "encoder = tf.keras.Model(inputs=encoder_inputs, outputs=z)\n",
        "\n",
        "mlp_inputs = tf.keras.Input(shape=(num_latent_vars,))\n",
        "x = Dense(3, activation='relu')(mlp_inputs)\n",
        "x = Dense(2, activation='softmax')(x)\n",
        "\n",
        "mlp = tf.keras.Model(inputs=mlp_inputs, outputs=x)\n",
        "\n",
        "MLP_VAE_inputs = encoder.input\n",
        "MLP_VAE_outputs = mlp(encoder.output)\n",
        "MLP_VAE_model = tf.keras.Model(inputs = MLP_VAE_inputs, outputs = MLP_VAE_outputs)"
      ],
      "metadata": {
        "id": "oIKNCXTaPkp-"
      },
      "execution_count": null,
      "outputs": []
    },
    {
      "cell_type": "code",
      "source": [
        "MLP_VAE_model.compile(Adam(lr=0.001), loss='sparse_categorical_crossentropy', metrics=['accuracy'])\n",
        "mlp_vae_callback = tf.keras.callbacks.EarlyStopping(monitor='val_loss', patience=3)\n",
        "MLP_VAE_model.fit(Xsm_train_fraud, ysm_train_fraud, validation_data=(X_val_fraud, y_val_fraud)\n",
        "              , batch_size=25, epochs=20, verbose=2, callbacks = [mlp_vae_callback])"
      ],
      "metadata": {
        "colab": {
          "base_uri": "https://localhost:8080/"
        },
        "id": "Ampp3rVoScmy",
        "outputId": "5f1b4b29-0e16-497b-8308-9e60eefa79ec"
      },
      "execution_count": null,
      "outputs": [
        {
          "output_type": "stream",
          "name": "stderr",
          "text": [
            "/usr/local/lib/python3.8/dist-packages/keras/optimizers/optimizer_v2/adam.py:110: UserWarning: The `lr` argument is deprecated, use `learning_rate` instead.\n",
            "  super(Adam, self).__init__(name, **kwargs)\n"
          ]
        },
        {
          "output_type": "stream",
          "name": "stdout",
          "text": [
            "Epoch 1/20\n",
            "14246/14246 - 46s - loss: 0.6753 - accuracy: 0.5546 - val_loss: 0.8250 - val_accuracy: 0.3381 - 46s/epoch - 3ms/step\n",
            "Epoch 2/20\n",
            "14246/14246 - 50s - loss: 0.6140 - accuracy: 0.6597 - val_loss: 0.4903 - val_accuracy: 0.7840 - 50s/epoch - 3ms/step\n",
            "Epoch 3/20\n",
            "14246/14246 - 46s - loss: 0.5091 - accuracy: 0.7320 - val_loss: 0.3876 - val_accuracy: 0.8699 - 46s/epoch - 3ms/step\n",
            "Epoch 4/20\n",
            "14246/14246 - 45s - loss: 0.4510 - accuracy: 0.7671 - val_loss: 0.3917 - val_accuracy: 0.8485 - 45s/epoch - 3ms/step\n",
            "Epoch 5/20\n",
            "14246/14246 - 45s - loss: 0.4304 - accuracy: 0.7784 - val_loss: 0.3445 - val_accuracy: 0.8960 - 45s/epoch - 3ms/step\n",
            "Epoch 6/20\n",
            "14246/14246 - 45s - loss: 0.4201 - accuracy: 0.7856 - val_loss: 0.3423 - val_accuracy: 0.8917 - 45s/epoch - 3ms/step\n",
            "Epoch 7/20\n",
            "14246/14246 - 47s - loss: 0.4080 - accuracy: 0.7926 - val_loss: 0.3691 - val_accuracy: 0.8848 - 47s/epoch - 3ms/step\n",
            "Epoch 8/20\n",
            "14246/14246 - 49s - loss: 0.4004 - accuracy: 0.7975 - val_loss: 0.3514 - val_accuracy: 0.8935 - 49s/epoch - 3ms/step\n",
            "Epoch 9/20\n",
            "14246/14246 - 47s - loss: 0.3930 - accuracy: 0.8024 - val_loss: 0.3462 - val_accuracy: 0.9037 - 47s/epoch - 3ms/step\n"
          ]
        },
        {
          "output_type": "execute_result",
          "data": {
            "text/plain": [
              "<keras.callbacks.History at 0x7f0a587fa160>"
            ]
          },
          "metadata": {},
          "execution_count": 82
        }
      ]
    },
    {
      "cell_type": "code",
      "source": [
        "yhat = MLP_VAE_model.predict(X_test_fraud)"
      ],
      "metadata": {
        "colab": {
          "base_uri": "https://localhost:8080/"
        },
        "id": "lQ79Mo1oa0r6",
        "outputId": "55a6b5e9-cbe5-4d65-c2b9-9c1636546cb8"
      },
      "execution_count": null,
      "outputs": [
        {
          "output_type": "stream",
          "name": "stdout",
          "text": [
            "2883/2883 [==============================] - 6s 2ms/step\n"
          ]
        }
      ]
    },
    {
      "cell_type": "code",
      "source": [
        "y_pred = threshod_evaluation(yhat, 0.4)\n",
        "cm = confusion_matrix(y_test_fraud, y_pred)\n",
        "\n",
        "disp = ConfusionMatrixDisplay(confusion_matrix=cm)\n",
        "\n",
        "disp.plot(cmap=plt.cm.Blues)\n",
        "plt.show()"
      ],
      "metadata": {
        "colab": {
          "base_uri": "https://localhost:8080/",
          "height": 279
        },
        "id": "jYTqEmszT6ww",
        "outputId": "2ee77970-3c53-4339-b80d-d60a5a2486e1"
      },
      "execution_count": null,
      "outputs": [
        {
          "output_type": "display_data",
          "data": {
            "text/plain": [
              "<Figure size 432x288 with 2 Axes>"
            ],
            "image/png": "[encoded data removed]"
          },
          "metadata": {
            "needs_background": "light"
          }
        }
      ]
    },
    {
      "cell_type": "code",
      "source": [
        "print(classification_report(y_test_fraud, y_pred))"
      ],
      "metadata": {
        "colab": {
          "base_uri": "https://localhost:8080/"
        },
        "id": "uIxZSDJNf3Cq",
        "outputId": "071369b9-9d5b-407f-ab7f-3b6a14e00ae8"
      },
      "execution_count": null,
      "outputs": [
        {
          "output_type": "stream",
          "name": "stdout",
          "text": [
            "              precision    recall  f1-score   support\n",
            "\n",
            "           0       0.92      0.99      0.95     84787\n",
            "           1       0.13      0.01      0.02      7467\n",
            "\n",
            "    accuracy                           0.91     92254\n",
            "   macro avg       0.52      0.50      0.49     92254\n",
            "weighted avg       0.86      0.91      0.88     92254\n",
            "\n"
          ]
        }
      ]
    },
    {
      "cell_type": "code",
      "source": [
        ""
      ],
      "metadata": {
        "id": "W6Z79JA3gGPd"
      },
      "execution_count": null,
      "outputs": []
    }
  ]
}